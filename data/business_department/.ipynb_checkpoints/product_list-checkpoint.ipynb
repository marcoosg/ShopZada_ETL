{
 "cells": [
  {
   "cell_type": "code",
   "execution_count": 1,
   "id": "ebae714d-8dc2-4510-afd8-bc98d79bf48f",
   "metadata": {},
   "outputs": [
    {
     "name": "stdout",
     "output_type": "stream",
     "text": [
      "Requirement already satisfied: openpyxl in c:\\python34\\lib\\site-packages (3.1.2)\n",
      "Requirement already satisfied: et-xmlfile in c:\\python34\\lib\\site-packages (from openpyxl) (1.1.0)\n"
     ]
    }
   ],
   "source": [
    "!pip install openpyxl"
   ]
  },
  {
   "cell_type": "code",
   "execution_count": 2,
   "id": "40fe55aa-9cd8-4a9d-ac2c-2c206817e3a0",
   "metadata": {},
   "outputs": [],
   "source": [
    "import pandas as pd\n",
    "import numpy as np"
   ]
  },
  {
   "cell_type": "markdown",
   "id": "b547ae3d-ec6f-4657-a73a-1583e788232c",
   "metadata": {},
   "source": [
    "# Data Profiling\n"
   ]
  },
  {
   "cell_type": "code",
   "execution_count": 3,
   "id": "05c6f1c3-3d98-4af1-9e0b-afcb85dbdb5d",
   "metadata": {},
   "outputs": [
    {
     "name": "stdout",
     "output_type": "stream",
     "text": [
      "Successfully read the data file\n"
     ]
    }
   ],
   "source": [
    "df_product = pd.read_excel(\"../business_department/product_list.xlsx\")\n",
    "print(\"Successfully read the data file\")"
   ]
  },
  {
   "cell_type": "code",
   "execution_count": 4,
   "id": "a720d91e-a587-41ea-8864-360435f4f10e",
   "metadata": {},
   "outputs": [
    {
     "name": "stdout",
     "output_type": "stream",
     "text": [
      "<class 'pandas.core.frame.DataFrame'>\n",
      "RangeIndex: 750 entries, 0 to 749\n",
      "Data columns (total 5 columns):\n",
      " #   Column        Non-Null Count  Dtype  \n",
      "---  ------        --------------  -----  \n",
      " 0   Unnamed: 0    750 non-null    int64  \n",
      " 1   product_id    750 non-null    object \n",
      " 2   product_name  750 non-null    object \n",
      " 3   product_type  749 non-null    object \n",
      " 4   price         750 non-null    float64\n",
      "dtypes: float64(1), int64(1), object(3)\n",
      "memory usage: 29.4+ KB\n"
     ]
    }
   ],
   "source": [
    "df_product.info()"
   ]
  },
  {
   "cell_type": "code",
   "execution_count": 5,
   "id": "0451d5d8-9e56-4858-8318-d0b0d6accfa6",
   "metadata": {},
   "outputs": [
    {
     "name": "stdout",
     "output_type": "stream",
     "text": [
      "     Unnamed: 0    product_id     product_name product_type  price\n",
      "736         436  PRODUCT58030  bottle of paint          NaN  21.26\n"
     ]
    }
   ],
   "source": [
    "null_prod_type = df_product.isnull().any(axis=1)\n",
    "null_rows = df_product[null_prod_type]\n",
    "print(null_rows)"
   ]
  },
  {
   "cell_type": "code",
   "execution_count": 6,
   "id": "1b13f573-1332-4b01-bbf7-a42a113f4464",
   "metadata": {},
   "outputs": [
    {
     "data": {
      "text/html": [
       "<div>\n",
       "<style scoped>\n",
       "    .dataframe tbody tr th:only-of-type {\n",
       "        vertical-align: middle;\n",
       "    }\n",
       "\n",
       "    .dataframe tbody tr th {\n",
       "        vertical-align: top;\n",
       "    }\n",
       "\n",
       "    .dataframe thead th {\n",
       "        text-align: right;\n",
       "    }\n",
       "</style>\n",
       "<table border=\"1\" class=\"dataframe\">\n",
       "  <thead>\n",
       "    <tr style=\"text-align: right;\">\n",
       "      <th></th>\n",
       "      <th>Unnamed: 0</th>\n",
       "      <th>product_id</th>\n",
       "      <th>product_name</th>\n",
       "      <th>product_type</th>\n",
       "      <th>price</th>\n",
       "    </tr>\n",
       "  </thead>\n",
       "  <tbody>\n",
       "    <tr>\n",
       "      <th>0</th>\n",
       "      <td>0</td>\n",
       "      <td>PRODUCT16794</td>\n",
       "      <td>Grandmas swedish thin pancakes</td>\n",
       "      <td>readymade_breakfast</td>\n",
       "      <td>12.81</td>\n",
       "    </tr>\n",
       "    <tr>\n",
       "      <th>1</th>\n",
       "      <td>1</td>\n",
       "      <td>PRODUCT61957</td>\n",
       "      <td>Chili jack oven omelet</td>\n",
       "      <td>readymade_breakfast</td>\n",
       "      <td>9.95</td>\n",
       "    </tr>\n",
       "    <tr>\n",
       "      <th>2</th>\n",
       "      <td>2</td>\n",
       "      <td>PRODUCT23890</td>\n",
       "      <td>Baked pears</td>\n",
       "      <td>readymade_breakfast</td>\n",
       "      <td>10.04</td>\n",
       "    </tr>\n",
       "    <tr>\n",
       "      <th>3</th>\n",
       "      <td>3</td>\n",
       "      <td>PRODUCT52912</td>\n",
       "      <td>Best buttermilk pancakes</td>\n",
       "      <td>readymade_breakfast</td>\n",
       "      <td>5.83</td>\n",
       "    </tr>\n",
       "    <tr>\n",
       "      <th>4</th>\n",
       "      <td>4</td>\n",
       "      <td>PRODUCT56387</td>\n",
       "      <td>Blackberry breakfast bars</td>\n",
       "      <td>readymade_breakfast</td>\n",
       "      <td>14.00</td>\n",
       "    </tr>\n",
       "    <tr>\n",
       "      <th>5</th>\n",
       "      <td>5</td>\n",
       "      <td>PRODUCT28708</td>\n",
       "      <td>Toasted sunny side up egg and cheese sandwiches</td>\n",
       "      <td>readymade_breakfast</td>\n",
       "      <td>13.55</td>\n",
       "    </tr>\n",
       "    <tr>\n",
       "      <th>6</th>\n",
       "      <td>6</td>\n",
       "      <td>PRODUCT00299</td>\n",
       "      <td>Pikelets australian pancakes</td>\n",
       "      <td>readymade_breakfast</td>\n",
       "      <td>15.23</td>\n",
       "    </tr>\n",
       "    <tr>\n",
       "      <th>7</th>\n",
       "      <td>7</td>\n",
       "      <td>PRODUCT38108</td>\n",
       "      <td>Scrambled eggs oeufs brouills</td>\n",
       "      <td>readymade_breakfast</td>\n",
       "      <td>7.28</td>\n",
       "    </tr>\n",
       "    <tr>\n",
       "      <th>8</th>\n",
       "      <td>8</td>\n",
       "      <td>PRODUCT17375</td>\n",
       "      <td>Baked pears</td>\n",
       "      <td>readymade_breakfast</td>\n",
       "      <td>9.92</td>\n",
       "    </tr>\n",
       "    <tr>\n",
       "      <th>9</th>\n",
       "      <td>9</td>\n",
       "      <td>PRODUCT26612</td>\n",
       "      <td>Moms cheat doughnuts</td>\n",
       "      <td>readymade_breakfast</td>\n",
       "      <td>6.78</td>\n",
       "    </tr>\n",
       "  </tbody>\n",
       "</table>\n",
       "</div>"
      ],
      "text/plain": [
       "   Unnamed: 0    product_id                                     product_name  \\\n",
       "0           0  PRODUCT16794                   Grandmas swedish thin pancakes   \n",
       "1           1  PRODUCT61957                           Chili jack oven omelet   \n",
       "2           2  PRODUCT23890                                      Baked pears   \n",
       "3           3  PRODUCT52912                         Best buttermilk pancakes   \n",
       "4           4  PRODUCT56387                        Blackberry breakfast bars   \n",
       "5           5  PRODUCT28708  Toasted sunny side up egg and cheese sandwiches   \n",
       "6           6  PRODUCT00299                     Pikelets australian pancakes   \n",
       "7           7  PRODUCT38108                    Scrambled eggs oeufs brouills   \n",
       "8           8  PRODUCT17375                                      Baked pears   \n",
       "9           9  PRODUCT26612                             Moms cheat doughnuts   \n",
       "\n",
       "          product_type  price  \n",
       "0  readymade_breakfast  12.81  \n",
       "1  readymade_breakfast   9.95  \n",
       "2  readymade_breakfast  10.04  \n",
       "3  readymade_breakfast   5.83  \n",
       "4  readymade_breakfast  14.00  \n",
       "5  readymade_breakfast  13.55  \n",
       "6  readymade_breakfast  15.23  \n",
       "7  readymade_breakfast   7.28  \n",
       "8  readymade_breakfast   9.92  \n",
       "9  readymade_breakfast   6.78  "
      ]
     },
     "execution_count": 6,
     "metadata": {},
     "output_type": "execute_result"
    }
   ],
   "source": [
    "df_product.head(10)"
   ]
  },
  {
   "cell_type": "code",
   "execution_count": 7,
   "id": "1dec3b99-651c-4b35-94fe-f53993026e12",
   "metadata": {},
   "outputs": [
    {
     "data": {
      "text/html": [
       "<div>\n",
       "<style scoped>\n",
       "    .dataframe tbody tr th:only-of-type {\n",
       "        vertical-align: middle;\n",
       "    }\n",
       "\n",
       "    .dataframe tbody tr th {\n",
       "        vertical-align: top;\n",
       "    }\n",
       "\n",
       "    .dataframe thead th {\n",
       "        text-align: right;\n",
       "    }\n",
       "</style>\n",
       "<table border=\"1\" class=\"dataframe\">\n",
       "  <thead>\n",
       "    <tr style=\"text-align: right;\">\n",
       "      <th></th>\n",
       "      <th>Unnamed: 0</th>\n",
       "      <th>product_id</th>\n",
       "      <th>product_name</th>\n",
       "      <th>product_type</th>\n",
       "      <th>price</th>\n",
       "    </tr>\n",
       "  </thead>\n",
       "  <tbody>\n",
       "    <tr>\n",
       "      <th>740</th>\n",
       "      <td>440</td>\n",
       "      <td>PRODUCT44568</td>\n",
       "      <td>tool basket</td>\n",
       "      <td>tools</td>\n",
       "      <td>17.28</td>\n",
       "    </tr>\n",
       "    <tr>\n",
       "      <th>741</th>\n",
       "      <td>441</td>\n",
       "      <td>PRODUCT60168</td>\n",
       "      <td>colgate tooth paste</td>\n",
       "      <td>health and hygiene</td>\n",
       "      <td>6.11</td>\n",
       "    </tr>\n",
       "    <tr>\n",
       "      <th>742</th>\n",
       "      <td>442</td>\n",
       "      <td>PRODUCT24359</td>\n",
       "      <td>khaki pants</td>\n",
       "      <td>apparel</td>\n",
       "      <td>17.28</td>\n",
       "    </tr>\n",
       "    <tr>\n",
       "      <th>743</th>\n",
       "      <td>443</td>\n",
       "      <td>PRODUCT20330</td>\n",
       "      <td>axe</td>\n",
       "      <td>tools</td>\n",
       "      <td>17.28</td>\n",
       "    </tr>\n",
       "    <tr>\n",
       "      <th>744</th>\n",
       "      <td>444</td>\n",
       "      <td>PRODUCT62485</td>\n",
       "      <td>jar of pickles</td>\n",
       "      <td>grocery</td>\n",
       "      <td>17.28</td>\n",
       "    </tr>\n",
       "    <tr>\n",
       "      <th>745</th>\n",
       "      <td>445</td>\n",
       "      <td>PRODUCT35203</td>\n",
       "      <td>tomato</td>\n",
       "      <td>grocery</td>\n",
       "      <td>17.28</td>\n",
       "    </tr>\n",
       "    <tr>\n",
       "      <th>746</th>\n",
       "      <td>446</td>\n",
       "      <td>PRODUCT34682</td>\n",
       "      <td>bowl</td>\n",
       "      <td>kitchenware</td>\n",
       "      <td>17.28</td>\n",
       "    </tr>\n",
       "    <tr>\n",
       "      <th>747</th>\n",
       "      <td>447</td>\n",
       "      <td>PRODUCT07137</td>\n",
       "      <td>dehumidifier</td>\n",
       "      <td>electronics and technology</td>\n",
       "      <td>38.07</td>\n",
       "    </tr>\n",
       "    <tr>\n",
       "      <th>748</th>\n",
       "      <td>448</td>\n",
       "      <td>PRODUCT29484</td>\n",
       "      <td>rice</td>\n",
       "      <td>grocery</td>\n",
       "      <td>17.28</td>\n",
       "    </tr>\n",
       "    <tr>\n",
       "      <th>749</th>\n",
       "      <td>449</td>\n",
       "      <td>PRODUCT22046</td>\n",
       "      <td>dove deodorant</td>\n",
       "      <td>health and hygiene</td>\n",
       "      <td>6.11</td>\n",
       "    </tr>\n",
       "  </tbody>\n",
       "</table>\n",
       "</div>"
      ],
      "text/plain": [
       "     Unnamed: 0    product_id         product_name  \\\n",
       "740         440  PRODUCT44568          tool basket   \n",
       "741         441  PRODUCT60168  colgate tooth paste   \n",
       "742         442  PRODUCT24359          khaki pants   \n",
       "743         443  PRODUCT20330                  axe   \n",
       "744         444  PRODUCT62485       jar of pickles   \n",
       "745         445  PRODUCT35203               tomato   \n",
       "746         446  PRODUCT34682                 bowl   \n",
       "747         447  PRODUCT07137         dehumidifier   \n",
       "748         448  PRODUCT29484                 rice   \n",
       "749         449  PRODUCT22046       dove deodorant   \n",
       "\n",
       "                   product_type  price  \n",
       "740                       tools  17.28  \n",
       "741          health and hygiene   6.11  \n",
       "742                     apparel  17.28  \n",
       "743                       tools  17.28  \n",
       "744                     grocery  17.28  \n",
       "745                     grocery  17.28  \n",
       "746                 kitchenware  17.28  \n",
       "747  electronics and technology  38.07  \n",
       "748                     grocery  17.28  \n",
       "749          health and hygiene   6.11  "
      ]
     },
     "execution_count": 7,
     "metadata": {},
     "output_type": "execute_result"
    }
   ],
   "source": [
    "df_product.tail(10)"
   ]
  },
  {
   "cell_type": "code",
   "execution_count": 8,
   "id": "2075f1f6-3527-4727-8da7-e91a6a357993",
   "metadata": {},
   "outputs": [
    {
     "data": {
      "text/html": [
       "<div>\n",
       "<style scoped>\n",
       "    .dataframe tbody tr th:only-of-type {\n",
       "        vertical-align: middle;\n",
       "    }\n",
       "\n",
       "    .dataframe tbody tr th {\n",
       "        vertical-align: top;\n",
       "    }\n",
       "\n",
       "    .dataframe thead th {\n",
       "        text-align: right;\n",
       "    }\n",
       "</style>\n",
       "<table border=\"1\" class=\"dataframe\">\n",
       "  <thead>\n",
       "    <tr style=\"text-align: right;\">\n",
       "      <th></th>\n",
       "      <th>Unnamed: 0</th>\n",
       "      <th>product_id</th>\n",
       "      <th>product_name</th>\n",
       "      <th>product_type</th>\n",
       "      <th>price</th>\n",
       "    </tr>\n",
       "  </thead>\n",
       "  <tbody>\n",
       "    <tr>\n",
       "      <th>100</th>\n",
       "      <td>0</td>\n",
       "      <td>PRODUCT51619</td>\n",
       "      <td>Fresh mango bread</td>\n",
       "      <td>readymade_lunch</td>\n",
       "      <td>28.83</td>\n",
       "    </tr>\n",
       "    <tr>\n",
       "      <th>101</th>\n",
       "      <td>1</td>\n",
       "      <td>PRODUCT58549</td>\n",
       "      <td>Hoisin marinated wing pieces</td>\n",
       "      <td>readymade_lunch</td>\n",
       "      <td>21.42</td>\n",
       "    </tr>\n",
       "    <tr>\n",
       "      <th>102</th>\n",
       "      <td>2</td>\n",
       "      <td>PRODUCT11963</td>\n",
       "      <td>Italian deli wraps</td>\n",
       "      <td>readymade_lunch</td>\n",
       "      <td>36.47</td>\n",
       "    </tr>\n",
       "    <tr>\n",
       "      <th>103</th>\n",
       "      <td>3</td>\n",
       "      <td>PRODUCT45096</td>\n",
       "      <td>Caramelized onion focaccia bread machine</td>\n",
       "      <td>readymade_lunch</td>\n",
       "      <td>32.29</td>\n",
       "    </tr>\n",
       "    <tr>\n",
       "      <th>104</th>\n",
       "      <td>4</td>\n",
       "      <td>PRODUCT34562</td>\n",
       "      <td>Katos tasty salmon cream cheese surprise</td>\n",
       "      <td>readymade_lunch</td>\n",
       "      <td>11.91</td>\n",
       "    </tr>\n",
       "    <tr>\n",
       "      <th>...</th>\n",
       "      <td>...</td>\n",
       "      <td>...</td>\n",
       "      <td>...</td>\n",
       "      <td>...</td>\n",
       "      <td>...</td>\n",
       "    </tr>\n",
       "    <tr>\n",
       "      <th>295</th>\n",
       "      <td>95</td>\n",
       "      <td>PRODUCT58303</td>\n",
       "      <td>Curried pea soup</td>\n",
       "      <td>readymade_dinner</td>\n",
       "      <td>37.05</td>\n",
       "    </tr>\n",
       "    <tr>\n",
       "      <th>296</th>\n",
       "      <td>96</td>\n",
       "      <td>PRODUCT54450</td>\n",
       "      <td>Kittencals chicken cacciatore</td>\n",
       "      <td>readymade_dinner</td>\n",
       "      <td>47.34</td>\n",
       "    </tr>\n",
       "    <tr>\n",
       "      <th>297</th>\n",
       "      <td>97</td>\n",
       "      <td>PRODUCT55618</td>\n",
       "      <td>Jamaican pork tenderloin</td>\n",
       "      <td>readymade_dinner</td>\n",
       "      <td>46.66</td>\n",
       "    </tr>\n",
       "    <tr>\n",
       "      <th>298</th>\n",
       "      <td>98</td>\n",
       "      <td>PRODUCT62588</td>\n",
       "      <td>Ww potato gratin 5 points</td>\n",
       "      <td>readymade_dinner</td>\n",
       "      <td>31.92</td>\n",
       "    </tr>\n",
       "    <tr>\n",
       "      <th>299</th>\n",
       "      <td>99</td>\n",
       "      <td>PRODUCT58987</td>\n",
       "      <td>Pork chops with apples stuffing</td>\n",
       "      <td>readymade_dinner</td>\n",
       "      <td>52.31</td>\n",
       "    </tr>\n",
       "  </tbody>\n",
       "</table>\n",
       "<p>200 rows × 5 columns</p>\n",
       "</div>"
      ],
      "text/plain": [
       "     Unnamed: 0    product_id                              product_name  \\\n",
       "100           0  PRODUCT51619                         Fresh mango bread   \n",
       "101           1  PRODUCT58549              Hoisin marinated wing pieces   \n",
       "102           2  PRODUCT11963                        Italian deli wraps   \n",
       "103           3  PRODUCT45096  Caramelized onion focaccia bread machine   \n",
       "104           4  PRODUCT34562  Katos tasty salmon cream cheese surprise   \n",
       "..          ...           ...                                       ...   \n",
       "295          95  PRODUCT58303                          Curried pea soup   \n",
       "296          96  PRODUCT54450             Kittencals chicken cacciatore   \n",
       "297          97  PRODUCT55618                  Jamaican pork tenderloin   \n",
       "298          98  PRODUCT62588                 Ww potato gratin 5 points   \n",
       "299          99  PRODUCT58987           Pork chops with apples stuffing   \n",
       "\n",
       "         product_type  price  \n",
       "100   readymade_lunch  28.83  \n",
       "101   readymade_lunch  21.42  \n",
       "102   readymade_lunch  36.47  \n",
       "103   readymade_lunch  32.29  \n",
       "104   readymade_lunch  11.91  \n",
       "..                ...    ...  \n",
       "295  readymade_dinner  37.05  \n",
       "296  readymade_dinner  47.34  \n",
       "297  readymade_dinner  46.66  \n",
       "298  readymade_dinner  31.92  \n",
       "299  readymade_dinner  52.31  \n",
       "\n",
       "[200 rows x 5 columns]"
      ]
     },
     "execution_count": 8,
     "metadata": {},
     "output_type": "execute_result"
    }
   ],
   "source": [
    "df_product.iloc[100:300]"
   ]
  },
  {
   "cell_type": "code",
   "execution_count": 9,
   "id": "54b82448-5478-48fb-a729-cebb3351f0f7",
   "metadata": {},
   "outputs": [
    {
     "name": "stdout",
     "output_type": "stream",
     "text": [
      "Unnamed: 0      450\n",
      "product_id      743\n",
      "product_name    642\n",
      "product_type     25\n",
      "price           333\n",
      "dtype: int64\n"
     ]
    }
   ],
   "source": [
    "print(df_product.nunique())"
   ]
  },
  {
   "cell_type": "code",
   "execution_count": 10,
   "id": "7e3a2939-9aa2-4a93-8b46-3cb77161e6f2",
   "metadata": {},
   "outputs": [
    {
     "name": "stdout",
     "output_type": "stream",
     "text": [
      "Unnamed: 0      0\n",
      "product_id      0\n",
      "product_name    0\n",
      "product_type    1\n",
      "price           0\n",
      "dtype: int64\n"
     ]
    }
   ],
   "source": [
    "print(df_product.isnull().sum())"
   ]
  },
  {
   "cell_type": "code",
   "execution_count": 11,
   "id": "10584c97-db52-49ab-871c-2309d180e573",
   "metadata": {},
   "outputs": [
    {
     "data": {
      "text/plain": [
       "array(['readymade_breakfast', 'readymade_lunch', 'readymade_dinner',\n",
       "       'accessories', 'kitchenware', 'toys and entertainment', 'grocery',\n",
       "       'apparel', 'furniture', 'health and hygiene', 'stationary',\n",
       "       'tools', 'jewelry', 'technology', 'electronics and technology',\n",
       "       'sports', 'cosmetics', 'stationary and school supplies',\n",
       "       'school supplies', 'music', 'others', 'cleaning materials',\n",
       "       'cosmetic', 'appliances', 'toolss', nan], dtype=object)"
      ]
     },
     "execution_count": 11,
     "metadata": {},
     "output_type": "execute_result"
    }
   ],
   "source": [
    "df_product['product_type'].unique()"
   ]
  },
  {
   "cell_type": "code",
   "execution_count": 12,
   "id": "9fc80c7e-6292-4b28-9bd7-5f7b927f1022",
   "metadata": {},
   "outputs": [
    {
     "data": {
      "text/html": [
       "<div>\n",
       "<style scoped>\n",
       "    .dataframe tbody tr th:only-of-type {\n",
       "        vertical-align: middle;\n",
       "    }\n",
       "\n",
       "    .dataframe tbody tr th {\n",
       "        vertical-align: top;\n",
       "    }\n",
       "\n",
       "    .dataframe thead th {\n",
       "        text-align: right;\n",
       "    }\n",
       "</style>\n",
       "<table border=\"1\" class=\"dataframe\">\n",
       "  <thead>\n",
       "    <tr style=\"text-align: right;\">\n",
       "      <th></th>\n",
       "      <th>Unnamed: 0</th>\n",
       "      <th>product_id</th>\n",
       "      <th>product_name</th>\n",
       "      <th>product_type</th>\n",
       "      <th>price</th>\n",
       "    </tr>\n",
       "  </thead>\n",
       "  <tbody>\n",
       "    <tr>\n",
       "      <th>40</th>\n",
       "      <td>40</td>\n",
       "      <td>PRODUCT10592</td>\n",
       "      <td>Scrambled egg sandwiches with onions and red p...</td>\n",
       "      <td>readymade_breakfast</td>\n",
       "      <td>13.18</td>\n",
       "    </tr>\n",
       "    <tr>\n",
       "      <th>44</th>\n",
       "      <td>44</td>\n",
       "      <td>PRODUCT61036</td>\n",
       "      <td>Blueberry banana happy face pancakes</td>\n",
       "      <td>readymade_breakfast</td>\n",
       "      <td>8.09</td>\n",
       "    </tr>\n",
       "    <tr>\n",
       "      <th>62</th>\n",
       "      <td>62</td>\n",
       "      <td>PRODUCT47439</td>\n",
       "      <td>Purple cow</td>\n",
       "      <td>readymade_breakfast</td>\n",
       "      <td>10.89</td>\n",
       "    </tr>\n",
       "    <tr>\n",
       "      <th>150</th>\n",
       "      <td>50</td>\n",
       "      <td>PRODUCT62030</td>\n",
       "      <td>Delicious cheesy bacon and green onion potato ...</td>\n",
       "      <td>readymade_lunch</td>\n",
       "      <td>19.76</td>\n",
       "    </tr>\n",
       "    <tr>\n",
       "      <th>327</th>\n",
       "      <td>27</td>\n",
       "      <td>PRODUCT47439</td>\n",
       "      <td>pair of scissors</td>\n",
       "      <td>tools</td>\n",
       "      <td>17.28</td>\n",
       "    </tr>\n",
       "    <tr>\n",
       "      <th>401</th>\n",
       "      <td>101</td>\n",
       "      <td>PRODUCT62030</td>\n",
       "      <td>chocolate</td>\n",
       "      <td>grocery</td>\n",
       "      <td>17.28</td>\n",
       "    </tr>\n",
       "    <tr>\n",
       "      <th>437</th>\n",
       "      <td>137</td>\n",
       "      <td>PRODUCT10592</td>\n",
       "      <td>tooth pick</td>\n",
       "      <td>health and hygiene</td>\n",
       "      <td>6.11</td>\n",
       "    </tr>\n",
       "    <tr>\n",
       "      <th>462</th>\n",
       "      <td>162</td>\n",
       "      <td>PRODUCT50527</td>\n",
       "      <td>slipper</td>\n",
       "      <td>apparel</td>\n",
       "      <td>17.28</td>\n",
       "    </tr>\n",
       "    <tr>\n",
       "      <th>499</th>\n",
       "      <td>199</td>\n",
       "      <td>PRODUCT38223</td>\n",
       "      <td>safety pin</td>\n",
       "      <td>accessories</td>\n",
       "      <td>5.74</td>\n",
       "    </tr>\n",
       "    <tr>\n",
       "      <th>509</th>\n",
       "      <td>209</td>\n",
       "      <td>PRODUCT50527</td>\n",
       "      <td>sofa</td>\n",
       "      <td>furniture</td>\n",
       "      <td>38.07</td>\n",
       "    </tr>\n",
       "    <tr>\n",
       "      <th>542</th>\n",
       "      <td>242</td>\n",
       "      <td>PRODUCT38223</td>\n",
       "      <td>fishing hook</td>\n",
       "      <td>accessories</td>\n",
       "      <td>5.74</td>\n",
       "    </tr>\n",
       "    <tr>\n",
       "      <th>589</th>\n",
       "      <td>289</td>\n",
       "      <td>PRODUCT61036</td>\n",
       "      <td>pair of binoculars</td>\n",
       "      <td>tools</td>\n",
       "      <td>17.28</td>\n",
       "    </tr>\n",
       "    <tr>\n",
       "      <th>680</th>\n",
       "      <td>380</td>\n",
       "      <td>PRODUCT19599</td>\n",
       "      <td>oslo paper</td>\n",
       "      <td>stationary and school supplies</td>\n",
       "      <td>5.74</td>\n",
       "    </tr>\n",
       "    <tr>\n",
       "      <th>684</th>\n",
       "      <td>384</td>\n",
       "      <td>PRODUCT19599</td>\n",
       "      <td>Christmas ornament</td>\n",
       "      <td>furniture</td>\n",
       "      <td>38.07</td>\n",
       "    </tr>\n",
       "  </tbody>\n",
       "</table>\n",
       "</div>"
      ],
      "text/plain": [
       "     Unnamed: 0    product_id  \\\n",
       "40           40  PRODUCT10592   \n",
       "44           44  PRODUCT61036   \n",
       "62           62  PRODUCT47439   \n",
       "150          50  PRODUCT62030   \n",
       "327          27  PRODUCT47439   \n",
       "401         101  PRODUCT62030   \n",
       "437         137  PRODUCT10592   \n",
       "462         162  PRODUCT50527   \n",
       "499         199  PRODUCT38223   \n",
       "509         209  PRODUCT50527   \n",
       "542         242  PRODUCT38223   \n",
       "589         289  PRODUCT61036   \n",
       "680         380  PRODUCT19599   \n",
       "684         384  PRODUCT19599   \n",
       "\n",
       "                                          product_name  \\\n",
       "40   Scrambled egg sandwiches with onions and red p...   \n",
       "44                Blueberry banana happy face pancakes   \n",
       "62                                          Purple cow   \n",
       "150  Delicious cheesy bacon and green onion potato ...   \n",
       "327                                   pair of scissors   \n",
       "401                                          chocolate   \n",
       "437                                         tooth pick   \n",
       "462                                            slipper   \n",
       "499                                         safety pin   \n",
       "509                                               sofa   \n",
       "542                                       fishing hook   \n",
       "589                                 pair of binoculars   \n",
       "680                                         oslo paper   \n",
       "684                                 Christmas ornament   \n",
       "\n",
       "                       product_type  price  \n",
       "40              readymade_breakfast  13.18  \n",
       "44              readymade_breakfast   8.09  \n",
       "62              readymade_breakfast  10.89  \n",
       "150                 readymade_lunch  19.76  \n",
       "327                           tools  17.28  \n",
       "401                         grocery  17.28  \n",
       "437              health and hygiene   6.11  \n",
       "462                         apparel  17.28  \n",
       "499                     accessories   5.74  \n",
       "509                       furniture  38.07  \n",
       "542                     accessories   5.74  \n",
       "589                           tools  17.28  \n",
       "680  stationary and school supplies   5.74  \n",
       "684                       furniture  38.07  "
      ]
     },
     "execution_count": 12,
     "metadata": {},
     "output_type": "execute_result"
    }
   ],
   "source": [
    "df_product[df_product.duplicated(['product_id'], keep=False)]"
   ]
  },
  {
   "cell_type": "code",
   "execution_count": 13,
   "id": "56cfccf3-b920-4ed1-85b2-24c653ae4748",
   "metadata": {},
   "outputs": [
    {
     "data": {
      "text/html": [
       "<div>\n",
       "<style scoped>\n",
       "    .dataframe tbody tr th:only-of-type {\n",
       "        vertical-align: middle;\n",
       "    }\n",
       "\n",
       "    .dataframe tbody tr th {\n",
       "        vertical-align: top;\n",
       "    }\n",
       "\n",
       "    .dataframe thead th {\n",
       "        text-align: right;\n",
       "    }\n",
       "</style>\n",
       "<table border=\"1\" class=\"dataframe\">\n",
       "  <thead>\n",
       "    <tr style=\"text-align: right;\">\n",
       "      <th></th>\n",
       "      <th>Unnamed: 0</th>\n",
       "      <th>product_id</th>\n",
       "      <th>product_name</th>\n",
       "      <th>product_type</th>\n",
       "      <th>price</th>\n",
       "    </tr>\n",
       "  </thead>\n",
       "  <tbody>\n",
       "    <tr>\n",
       "      <th>1</th>\n",
       "      <td>1</td>\n",
       "      <td>PRODUCT61957</td>\n",
       "      <td>Chili jack oven omelet</td>\n",
       "      <td>readymade_breakfast</td>\n",
       "      <td>9.95</td>\n",
       "    </tr>\n",
       "    <tr>\n",
       "      <th>2</th>\n",
       "      <td>2</td>\n",
       "      <td>PRODUCT23890</td>\n",
       "      <td>Baked pears</td>\n",
       "      <td>readymade_breakfast</td>\n",
       "      <td>10.04</td>\n",
       "    </tr>\n",
       "    <tr>\n",
       "      <th>4</th>\n",
       "      <td>4</td>\n",
       "      <td>PRODUCT56387</td>\n",
       "      <td>Blackberry breakfast bars</td>\n",
       "      <td>readymade_breakfast</td>\n",
       "      <td>14.00</td>\n",
       "    </tr>\n",
       "    <tr>\n",
       "      <th>5</th>\n",
       "      <td>5</td>\n",
       "      <td>PRODUCT28708</td>\n",
       "      <td>Toasted sunny side up egg and cheese sandwiches</td>\n",
       "      <td>readymade_breakfast</td>\n",
       "      <td>13.55</td>\n",
       "    </tr>\n",
       "    <tr>\n",
       "      <th>6</th>\n",
       "      <td>6</td>\n",
       "      <td>PRODUCT00299</td>\n",
       "      <td>Pikelets australian pancakes</td>\n",
       "      <td>readymade_breakfast</td>\n",
       "      <td>15.23</td>\n",
       "    </tr>\n",
       "    <tr>\n",
       "      <th>...</th>\n",
       "      <td>...</td>\n",
       "      <td>...</td>\n",
       "      <td>...</td>\n",
       "      <td>...</td>\n",
       "      <td>...</td>\n",
       "    </tr>\n",
       "    <tr>\n",
       "      <th>361</th>\n",
       "      <td>61</td>\n",
       "      <td>PRODUCT17244</td>\n",
       "      <td>baseball</td>\n",
       "      <td>sports</td>\n",
       "      <td>8.72</td>\n",
       "    </tr>\n",
       "    <tr>\n",
       "      <th>552</th>\n",
       "      <td>252</td>\n",
       "      <td>PRODUCT47328</td>\n",
       "      <td>blouse</td>\n",
       "      <td>apparel</td>\n",
       "      <td>17.28</td>\n",
       "    </tr>\n",
       "    <tr>\n",
       "      <th>566</th>\n",
       "      <td>266</td>\n",
       "      <td>PRODUCT19879</td>\n",
       "      <td>table</td>\n",
       "      <td>furniture</td>\n",
       "      <td>38.07</td>\n",
       "    </tr>\n",
       "    <tr>\n",
       "      <th>639</th>\n",
       "      <td>339</td>\n",
       "      <td>PRODUCT59581</td>\n",
       "      <td>baseball</td>\n",
       "      <td>sports</td>\n",
       "      <td>19.51</td>\n",
       "    </tr>\n",
       "    <tr>\n",
       "      <th>721</th>\n",
       "      <td>421</td>\n",
       "      <td>PRODUCT22691</td>\n",
       "      <td>screwdriver</td>\n",
       "      <td>tools</td>\n",
       "      <td>17.28</td>\n",
       "    </tr>\n",
       "  </tbody>\n",
       "</table>\n",
       "<p>162 rows × 5 columns</p>\n",
       "</div>"
      ],
      "text/plain": [
       "     Unnamed: 0    product_id  \\\n",
       "1             1  PRODUCT61957   \n",
       "2             2  PRODUCT23890   \n",
       "4             4  PRODUCT56387   \n",
       "5             5  PRODUCT28708   \n",
       "6             6  PRODUCT00299   \n",
       "..          ...           ...   \n",
       "361          61  PRODUCT17244   \n",
       "552         252  PRODUCT47328   \n",
       "566         266  PRODUCT19879   \n",
       "639         339  PRODUCT59581   \n",
       "721         421  PRODUCT22691   \n",
       "\n",
       "                                        product_name         product_type  \\\n",
       "1                             Chili jack oven omelet  readymade_breakfast   \n",
       "2                                        Baked pears  readymade_breakfast   \n",
       "4                          Blackberry breakfast bars  readymade_breakfast   \n",
       "5    Toasted sunny side up egg and cheese sandwiches  readymade_breakfast   \n",
       "6                       Pikelets australian pancakes  readymade_breakfast   \n",
       "..                                               ...                  ...   \n",
       "361                                         baseball               sports   \n",
       "552                                           blouse              apparel   \n",
       "566                                            table            furniture   \n",
       "639                                         baseball               sports   \n",
       "721                                      screwdriver                tools   \n",
       "\n",
       "     price  \n",
       "1     9.95  \n",
       "2    10.04  \n",
       "4    14.00  \n",
       "5    13.55  \n",
       "6    15.23  \n",
       "..     ...  \n",
       "361   8.72  \n",
       "552  17.28  \n",
       "566  38.07  \n",
       "639  19.51  \n",
       "721  17.28  \n",
       "\n",
       "[162 rows x 5 columns]"
      ]
     },
     "execution_count": 13,
     "metadata": {},
     "output_type": "execute_result"
    }
   ],
   "source": [
    "df_product[df_product.duplicated(subset=['product_name','product_type'], keep=False)]"
   ]
  },
  {
   "cell_type": "code",
   "execution_count": 14,
   "id": "eb56d8b0-a829-49ed-a94b-38461c232a27",
   "metadata": {},
   "outputs": [
    {
     "name": "stdout",
     "output_type": "stream",
     "text": [
      "(750, 5)\n"
     ]
    }
   ],
   "source": [
    "print(df_product.shape)"
   ]
  },
  {
   "cell_type": "markdown",
   "id": "2d535f67-aaf5-4de2-86ca-e9c97d96f0fa",
   "metadata": {},
   "source": [
    "### Data Cleaning"
   ]
  },
  {
   "cell_type": "markdown",
   "id": "b6878aba-3dae-4d80-ad7a-b88c857dbeeb",
   "metadata": {},
   "source": [
    "#### Remove unnamed column"
   ]
  },
  {
   "cell_type": "code",
   "execution_count": 15,
   "id": "66805432-bfc1-4092-868d-3ea1c48cac78",
   "metadata": {},
   "outputs": [],
   "source": [
    "df_product = df_product.loc[:, ~df_product.columns.str.contains('^Unnamed')]"
   ]
  },
  {
   "cell_type": "code",
   "execution_count": 16,
   "id": "4fedd6bf-cd86-4c17-a02f-141214e01241",
   "metadata": {},
   "outputs": [],
   "source": [
    "df_product.to_parquet(\"product_unnamed_removed.parquet\")"
   ]
  },
  {
   "cell_type": "markdown",
   "id": "c32fe9ef-0cf9-4803-945b-5152d6bde3e2",
   "metadata": {},
   "source": [
    "#### Change product type of bottle of paint to tools"
   ]
  },
  {
   "cell_type": "code",
   "execution_count": 17,
   "id": "0685cc96-2f9e-45e3-a9ca-9b4b9f63c608",
   "metadata": {},
   "outputs": [],
   "source": [
    "df_product.loc[df_product['product_name'] == 'bottle of paint', 'product_type'] = 'tools'"
   ]
  },
  {
   "cell_type": "code",
   "execution_count": 18,
   "id": "7521b747-0e19-46b4-8499-fc56186eddb6",
   "metadata": {},
   "outputs": [
    {
     "name": "stdout",
     "output_type": "stream",
     "text": [
      "(750, 4)\n"
     ]
    }
   ],
   "source": [
    "print(df_product.shape)"
   ]
  },
  {
   "cell_type": "markdown",
   "id": "e07b8e0f-db2d-4626-9aff-6eac3dd2590f",
   "metadata": {},
   "source": [
    "### Setting up product type structure"
   ]
  },
  {
   "cell_type": "code",
   "execution_count": 19,
   "id": "6d260300-d47f-4451-8585-52c3df92cbdd",
   "metadata": {},
   "outputs": [],
   "source": [
    "#combine readymade breakfast, lunch and dinner as readymade_food\n",
    "df_product.loc[df_product['product_type'] == 'readymade_breakfast', 'product_type'] = 'ready-made food'\n",
    "df_product.loc[df_product['product_type'] == 'readymade_lunch', 'product_type'] = 'ready-made food'\n",
    "df_product.loc[df_product['product_type'] == 'readymade_dinner', 'product_type'] = 'ready-made food'"
   ]
  },
  {
   "cell_type": "code",
   "execution_count": 20,
   "id": "ff1b2ce1-24f9-4dc6-bd02-82f41252cc88",
   "metadata": {},
   "outputs": [],
   "source": [
    "#combine technology as electronics and technology\n",
    "df_product.loc[df_product['product_type'] == 'technology', 'product_type'] = 'electronics and technology'"
   ]
  },
  {
   "cell_type": "code",
   "execution_count": 21,
   "id": "468ec14d-48eb-466e-84ee-c790e7d96230",
   "metadata": {},
   "outputs": [],
   "source": [
    "#change stationary to Stationary and School supplies\n",
    "df_product.loc[df_product['product_type'] == 'stationary', 'product_type'] = 'stationary and school supplies'"
   ]
  },
  {
   "cell_type": "code",
   "execution_count": 22,
   "id": "1a58133d-aa13-407c-903e-498535d6272c",
   "metadata": {},
   "outputs": [],
   "source": [
    "#change school supplies to Stationary and School supplies\n",
    "df_product.loc[df_product['product_type'] == 'school supplies', 'product_type'] = 'stationary and school supplies'"
   ]
  },
  {
   "cell_type": "code",
   "execution_count": 23,
   "id": "84851ede-39c8-460f-8b6f-46ddaaa0f260",
   "metadata": {},
   "outputs": [],
   "source": [
    "#change jewelry to accessory\n",
    "df_product.loc[df_product['product_type'] == 'jewelry', 'product_type'] = 'accessories'"
   ]
  },
  {
   "cell_type": "code",
   "execution_count": 24,
   "id": "44e6b36c-e821-429f-943a-04a8b2cd9023",
   "metadata": {},
   "outputs": [],
   "source": [
    "#change cosmetic to cosmetics\n",
    "df_product.loc[df_product['product_type'] == 'cosmetic', 'product_type'] = 'cosmetics'"
   ]
  },
  {
   "cell_type": "code",
   "execution_count": 25,
   "id": "4df5b39c-e333-4473-8a27-e7d8e583b69a",
   "metadata": {},
   "outputs": [],
   "source": [
    "#change toolss to tools\n",
    "df_product.loc[df_product['product_type'] == 'toolss', 'product_type'] = 'tools'"
   ]
  },
  {
   "cell_type": "code",
   "execution_count": 26,
   "id": "ac240239-8088-49e1-aca0-49fa1ff23827",
   "metadata": {},
   "outputs": [
    {
     "data": {
      "text/html": [
       "<div>\n",
       "<style scoped>\n",
       "    .dataframe tbody tr th:only-of-type {\n",
       "        vertical-align: middle;\n",
       "    }\n",
       "\n",
       "    .dataframe tbody tr th {\n",
       "        vertical-align: top;\n",
       "    }\n",
       "\n",
       "    .dataframe thead th {\n",
       "        text-align: right;\n",
       "    }\n",
       "</style>\n",
       "<table border=\"1\" class=\"dataframe\">\n",
       "  <thead>\n",
       "    <tr style=\"text-align: right;\">\n",
       "      <th></th>\n",
       "      <th>product_id</th>\n",
       "      <th>product_name</th>\n",
       "      <th>product_type</th>\n",
       "      <th>price</th>\n",
       "    </tr>\n",
       "  </thead>\n",
       "  <tbody>\n",
       "    <tr>\n",
       "      <th>565</th>\n",
       "      <td>PRODUCT00534</td>\n",
       "      <td>balloon</td>\n",
       "      <td>others</td>\n",
       "      <td>8.13</td>\n",
       "    </tr>\n",
       "  </tbody>\n",
       "</table>\n",
       "</div>"
      ],
      "text/plain": [
       "       product_id product_name product_type  price\n",
       "565  PRODUCT00534      balloon       others   8.13"
      ]
     },
     "execution_count": 26,
     "metadata": {},
     "output_type": "execute_result"
    }
   ],
   "source": [
    "#checking product with other product type\n",
    "df_product.loc[df_product['product_type'] == 'others']"
   ]
  },
  {
   "cell_type": "code",
   "execution_count": 27,
   "id": "e53aff3c-aa1d-42f5-b025-ce91541efd39",
   "metadata": {},
   "outputs": [],
   "source": [
    "#changing product type of product name balloon to toys and entertainment\n",
    "df_product.loc[df_product['product_name'] == 'balloon', 'product_type'] = 'toys and entertainment'"
   ]
  },
  {
   "cell_type": "code",
   "execution_count": 28,
   "id": "69d48ce3-b3bd-42a3-9e9f-f9052bca5d9a",
   "metadata": {},
   "outputs": [
    {
     "data": {
      "text/plain": [
       "array(['ready-made food', 'accessories', 'kitchenware',\n",
       "       'toys and entertainment', 'grocery', 'apparel', 'furniture',\n",
       "       'health and hygiene', 'stationary and school supplies', 'tools',\n",
       "       'electronics and technology', 'sports', 'cosmetics', 'music',\n",
       "       'cleaning materials', 'appliances'], dtype=object)"
      ]
     },
     "execution_count": 28,
     "metadata": {},
     "output_type": "execute_result"
    }
   ],
   "source": [
    "df_product['product_type'].unique()"
   ]
  },
  {
   "cell_type": "code",
   "execution_count": 29,
   "id": "9cf6a549-68e2-40b2-851d-930d4e72a35c",
   "metadata": {},
   "outputs": [],
   "source": [
    "df_product.to_parquet(\"product_type_merged.parquet\")"
   ]
  },
  {
   "cell_type": "markdown",
   "id": "04151f0c-28b2-4e56-adae-492cd14313a8",
   "metadata": {},
   "source": [
    "### Removal of Same product name and type, only keeping the latest one"
   ]
  },
  {
   "cell_type": "code",
   "execution_count": 30,
   "id": "fa5b8a7d-403d-4049-9fef-1f797ee837ce",
   "metadata": {},
   "outputs": [
    {
     "name": "stdout",
     "output_type": "stream",
     "text": [
      "(645, 4)\n"
     ]
    }
   ],
   "source": [
    "#removing same product name and product type, keeping only the newly added data\n",
    "df_product = df_product.drop_duplicates(subset=[\"product_name\",\"product_type\"], keep=\"last\")\n",
    "print(df_product.shape)"
   ]
  },
  {
   "cell_type": "code",
   "execution_count": 31,
   "id": "30a818f7-4183-47fd-84d3-d352ab50902a",
   "metadata": {},
   "outputs": [
    {
     "name": "stdout",
     "output_type": "stream",
     "text": [
      "(639, 4)\n"
     ]
    }
   ],
   "source": [
    "#removing product id, keeping only the newly added data (there may be some changes with product ids)\n",
    "df_product = df_product.drop_duplicates(subset=['product_id'], keep='last')\n",
    "print(df_product.shape)"
   ]
  },
  {
   "cell_type": "code",
   "execution_count": 32,
   "id": "b78039c9-2e34-4f47-9cb8-f41633ff8de3",
   "metadata": {},
   "outputs": [
    {
     "name": "stdout",
     "output_type": "stream",
     "text": [
      "product_id      639\n",
      "product_name    636\n",
      "product_type     16\n",
      "price           235\n",
      "dtype: int64\n"
     ]
    }
   ],
   "source": [
    "print(df_product.nunique())"
   ]
  },
  {
   "cell_type": "code",
   "execution_count": 33,
   "id": "01a840e1-65c8-439c-93ff-8db996c01442",
   "metadata": {},
   "outputs": [],
   "source": [
    "df_product.to_parquet(\"product_duplicates_removed.parquet\")"
   ]
  },
  {
   "cell_type": "markdown",
   "id": "8883f4c4-99b9-4ceb-8bc1-140170f58d66",
   "metadata": {},
   "source": [
    "### Additional Data Profiling after Cleaning"
   ]
  },
  {
   "cell_type": "code",
   "execution_count": 34,
   "id": "1c06fec6-3b6c-4b63-b4a6-9ec0e37ab980",
   "metadata": {},
   "outputs": [
    {
     "data": {
      "text/html": [
       "<div>\n",
       "<style scoped>\n",
       "    .dataframe tbody tr th:only-of-type {\n",
       "        vertical-align: middle;\n",
       "    }\n",
       "\n",
       "    .dataframe tbody tr th {\n",
       "        vertical-align: top;\n",
       "    }\n",
       "\n",
       "    .dataframe thead th {\n",
       "        text-align: right;\n",
       "    }\n",
       "</style>\n",
       "<table border=\"1\" class=\"dataframe\">\n",
       "  <thead>\n",
       "    <tr style=\"text-align: right;\">\n",
       "      <th></th>\n",
       "      <th>product_id</th>\n",
       "      <th>product_name</th>\n",
       "      <th>product_type</th>\n",
       "      <th>price</th>\n",
       "    </tr>\n",
       "  </thead>\n",
       "  <tbody>\n",
       "    <tr>\n",
       "      <th>309</th>\n",
       "      <td>PRODUCT07667</td>\n",
       "      <td>bow tie</td>\n",
       "      <td>accessories</td>\n",
       "      <td>5.74</td>\n",
       "    </tr>\n",
       "    <tr>\n",
       "      <th>449</th>\n",
       "      <td>PRODUCT41178</td>\n",
       "      <td>washing machine</td>\n",
       "      <td>electronics and technology</td>\n",
       "      <td>38.07</td>\n",
       "    </tr>\n",
       "    <tr>\n",
       "      <th>467</th>\n",
       "      <td>PRODUCT24772</td>\n",
       "      <td>mouse pad</td>\n",
       "      <td>electronics and technology</td>\n",
       "      <td>38.07</td>\n",
       "    </tr>\n",
       "    <tr>\n",
       "      <th>484</th>\n",
       "      <td>PRODUCT55299</td>\n",
       "      <td>bow tie</td>\n",
       "      <td>apparel</td>\n",
       "      <td>17.28</td>\n",
       "    </tr>\n",
       "    <tr>\n",
       "      <th>674</th>\n",
       "      <td>PRODUCT49380</td>\n",
       "      <td>washing machine</td>\n",
       "      <td>appliances</td>\n",
       "      <td>23.24</td>\n",
       "    </tr>\n",
       "    <tr>\n",
       "      <th>677</th>\n",
       "      <td>PRODUCT20986</td>\n",
       "      <td>mouse pad</td>\n",
       "      <td>accessories</td>\n",
       "      <td>5.74</td>\n",
       "    </tr>\n",
       "  </tbody>\n",
       "</table>\n",
       "</div>"
      ],
      "text/plain": [
       "       product_id     product_name                product_type  price\n",
       "309  PRODUCT07667          bow tie                 accessories   5.74\n",
       "449  PRODUCT41178  washing machine  electronics and technology  38.07\n",
       "467  PRODUCT24772        mouse pad  electronics and technology  38.07\n",
       "484  PRODUCT55299          bow tie                     apparel  17.28\n",
       "674  PRODUCT49380  washing machine                  appliances  23.24\n",
       "677  PRODUCT20986        mouse pad                 accessories   5.74"
      ]
     },
     "execution_count": 34,
     "metadata": {},
     "output_type": "execute_result"
    }
   ],
   "source": [
    "df_product[df_product.duplicated(['product_name'], keep=False)]"
   ]
  },
  {
   "cell_type": "markdown",
   "id": "24cc3629-cde7-4abb-80c9-af88e8a3503d",
   "metadata": {},
   "source": [
    "### Additional Data Structure and Cleaning"
   ]
  },
  {
   "cell_type": "code",
   "execution_count": 35,
   "id": "3c89318d-94f7-4ea7-9f8b-aae114cca32a",
   "metadata": {},
   "outputs": [],
   "source": [
    "#change product name bow tie to accessory\n",
    "df_product.loc[df_product['product_name'] == 'bow tie', 'product_type'] = 'accessories'"
   ]
  },
  {
   "cell_type": "code",
   "execution_count": 36,
   "id": "40e0e9c6-6168-4bf7-86d5-a02a6e084d1a",
   "metadata": {},
   "outputs": [],
   "source": [
    "#change product name washing machine to appliances\n",
    "df_product.loc[df_product['product_name'] == 'washing machine', 'product_type'] = 'appliances'"
   ]
  },
  {
   "cell_type": "code",
   "execution_count": 37,
   "id": "1fcfe620-7c5f-434f-81d1-18fc109fc90a",
   "metadata": {},
   "outputs": [],
   "source": [
    "#change product name mouse pad to accessories\n",
    "df_product.loc[df_product['product_name'] == 'mouse pad', 'product_type'] = 'accessories'"
   ]
  },
  {
   "cell_type": "code",
   "execution_count": 38,
   "id": "4a8941c0-58ee-4844-9998-0cbe877347be",
   "metadata": {},
   "outputs": [
    {
     "name": "stdout",
     "output_type": "stream",
     "text": [
      "product_id      636\n",
      "product_name    636\n",
      "product_type     16\n",
      "price           235\n",
      "dtype: int64\n"
     ]
    }
   ],
   "source": [
    "#removing same product name and product type, keeping only the newly added data\n",
    "df_product = df_product.drop_duplicates(subset=[\"product_name\",\"product_type\"], keep=\"last\")\n",
    "print(df_product.nunique())"
   ]
  },
  {
   "cell_type": "code",
   "execution_count": 39,
   "id": "e15089cf-4e58-4a4e-84f5-e2fbe3c86efd",
   "metadata": {},
   "outputs": [],
   "source": [
    "df_product.to_parquet(\"product_type_changes.parquet\")"
   ]
  },
  {
   "cell_type": "markdown",
   "id": "af89aa7f-85df-4176-9348-9f5aed781ddc",
   "metadata": {},
   "source": [
    "### Data Structure"
   ]
  },
  {
   "cell_type": "code",
   "execution_count": 40,
   "id": "4ca8243f-6681-40cc-a8b1-64d3847c9d5d",
   "metadata": {},
   "outputs": [],
   "source": [
    "#renaming columns\n",
    "df_product = df_product.rename(columns={'price':'product_price'})"
   ]
  },
  {
   "cell_type": "code",
   "execution_count": 41,
   "id": "48cdac6f-1a4b-4172-8c32-87379ef8adbd",
   "metadata": {},
   "outputs": [],
   "source": [
    "df_product['product_type'] = df_product['product_type'].str.upper()"
   ]
  },
  {
   "cell_type": "code",
   "execution_count": 42,
   "id": "7066d437-3b69-4653-afea-8199da40adeb",
   "metadata": {},
   "outputs": [],
   "source": [
    "df_product['product_name'] = df_product['product_name'].str.upper()"
   ]
  },
  {
   "cell_type": "code",
   "execution_count": 43,
   "id": "581ef287-22b5-4437-b79e-5b8c9bd4719a",
   "metadata": {},
   "outputs": [],
   "source": [
    "# Uppercase all columns\n",
    "df_product.columns = df_product.columns.str.upper()"
   ]
  },
  {
   "cell_type": "code",
   "execution_count": 44,
   "id": "68ed529e-6f4c-4a3c-b6db-ed8f1d5399e5",
   "metadata": {},
   "outputs": [
    {
     "data": {
      "text/html": [
       "<div>\n",
       "<style scoped>\n",
       "    .dataframe tbody tr th:only-of-type {\n",
       "        vertical-align: middle;\n",
       "    }\n",
       "\n",
       "    .dataframe tbody tr th {\n",
       "        vertical-align: top;\n",
       "    }\n",
       "\n",
       "    .dataframe thead th {\n",
       "        text-align: right;\n",
       "    }\n",
       "</style>\n",
       "<table border=\"1\" class=\"dataframe\">\n",
       "  <thead>\n",
       "    <tr style=\"text-align: right;\">\n",
       "      <th></th>\n",
       "      <th>PRODUCT_ID</th>\n",
       "      <th>PRODUCT_NAME</th>\n",
       "      <th>PRODUCT_TYPE</th>\n",
       "      <th>PRODUCT_PRICE</th>\n",
       "    </tr>\n",
       "  </thead>\n",
       "  <tbody>\n",
       "    <tr>\n",
       "      <th>0</th>\n",
       "      <td>PRODUCT16794</td>\n",
       "      <td>GRANDMAS SWEDISH THIN PANCAKES</td>\n",
       "      <td>READY-MADE FOOD</td>\n",
       "      <td>12.81</td>\n",
       "    </tr>\n",
       "    <tr>\n",
       "      <th>3</th>\n",
       "      <td>PRODUCT52912</td>\n",
       "      <td>BEST BUTTERMILK PANCAKES</td>\n",
       "      <td>READY-MADE FOOD</td>\n",
       "      <td>5.83</td>\n",
       "    </tr>\n",
       "    <tr>\n",
       "      <th>8</th>\n",
       "      <td>PRODUCT17375</td>\n",
       "      <td>BAKED PEARS</td>\n",
       "      <td>READY-MADE FOOD</td>\n",
       "      <td>9.92</td>\n",
       "    </tr>\n",
       "    <tr>\n",
       "      <th>9</th>\n",
       "      <td>PRODUCT26612</td>\n",
       "      <td>MOMS CHEAT DOUGHNUTS</td>\n",
       "      <td>READY-MADE FOOD</td>\n",
       "      <td>6.78</td>\n",
       "    </tr>\n",
       "    <tr>\n",
       "      <th>11</th>\n",
       "      <td>PRODUCT50553</td>\n",
       "      <td>CHEERY CHERRY MUFFINS</td>\n",
       "      <td>READY-MADE FOOD</td>\n",
       "      <td>7.53</td>\n",
       "    </tr>\n",
       "    <tr>\n",
       "      <th>17</th>\n",
       "      <td>PRODUCT06101</td>\n",
       "      <td>CHICKEN AND EGG ON RICE OYAKO DONBURI</td>\n",
       "      <td>READY-MADE FOOD</td>\n",
       "      <td>10.95</td>\n",
       "    </tr>\n",
       "    <tr>\n",
       "      <th>22</th>\n",
       "      <td>PRODUCT45809</td>\n",
       "      <td>SCRAMBLED EGGS OEUFS BROUILLS</td>\n",
       "      <td>READY-MADE FOOD</td>\n",
       "      <td>6.82</td>\n",
       "    </tr>\n",
       "    <tr>\n",
       "      <th>24</th>\n",
       "      <td>PRODUCT07816</td>\n",
       "      <td>EGG FLOWERS</td>\n",
       "      <td>READY-MADE FOOD</td>\n",
       "      <td>8.83</td>\n",
       "    </tr>\n",
       "    <tr>\n",
       "      <th>26</th>\n",
       "      <td>PRODUCT10771</td>\n",
       "      <td>SLEEPY TWISTED SISTERS G N G BREAKFAST RAMEKIN</td>\n",
       "      <td>READY-MADE FOOD</td>\n",
       "      <td>11.60</td>\n",
       "    </tr>\n",
       "    <tr>\n",
       "      <th>29</th>\n",
       "      <td>PRODUCT47927</td>\n",
       "      <td>HAM OMELET DELUXE</td>\n",
       "      <td>READY-MADE FOOD</td>\n",
       "      <td>13.87</td>\n",
       "    </tr>\n",
       "    <tr>\n",
       "      <th>32</th>\n",
       "      <td>PRODUCT34734</td>\n",
       "      <td>SHIRLEYS PLAIN OR BLUEBERRY MUFFINS</td>\n",
       "      <td>READY-MADE FOOD</td>\n",
       "      <td>13.33</td>\n",
       "    </tr>\n",
       "    <tr>\n",
       "      <th>33</th>\n",
       "      <td>PRODUCT57150</td>\n",
       "      <td>PUMPKIN GINGER SCONES WITH CINNAMON CHIPS</td>\n",
       "      <td>READY-MADE FOOD</td>\n",
       "      <td>11.69</td>\n",
       "    </tr>\n",
       "    <tr>\n",
       "      <th>35</th>\n",
       "      <td>PRODUCT20183</td>\n",
       "      <td>VANILLA FRUIT DIP</td>\n",
       "      <td>READY-MADE FOOD</td>\n",
       "      <td>15.41</td>\n",
       "    </tr>\n",
       "    <tr>\n",
       "      <th>38</th>\n",
       "      <td>PRODUCT45363</td>\n",
       "      <td>AWESOME ORANGE CHOCOLATE MUFFINS</td>\n",
       "      <td>READY-MADE FOOD</td>\n",
       "      <td>14.25</td>\n",
       "    </tr>\n",
       "    <tr>\n",
       "      <th>41</th>\n",
       "      <td>PRODUCT18058</td>\n",
       "      <td>EASY DANISH KRINGLE</td>\n",
       "      <td>READY-MADE FOOD</td>\n",
       "      <td>8.87</td>\n",
       "    </tr>\n",
       "    <tr>\n",
       "      <th>42</th>\n",
       "      <td>PRODUCT29464</td>\n",
       "      <td>SAUSAGE GRAVY FOR BISCUITS AND GRAVY</td>\n",
       "      <td>READY-MADE FOOD</td>\n",
       "      <td>11.94</td>\n",
       "    </tr>\n",
       "    <tr>\n",
       "      <th>45</th>\n",
       "      <td>PRODUCT58979</td>\n",
       "      <td>CHEF FLOWERS SIMPLE SUNDAY BRUNCH OMELETTE</td>\n",
       "      <td>READY-MADE FOOD</td>\n",
       "      <td>10.80</td>\n",
       "    </tr>\n",
       "    <tr>\n",
       "      <th>49</th>\n",
       "      <td>PRODUCT25962</td>\n",
       "      <td>CHILI JACK OVEN OMELET</td>\n",
       "      <td>READY-MADE FOOD</td>\n",
       "      <td>6.01</td>\n",
       "    </tr>\n",
       "    <tr>\n",
       "      <th>50</th>\n",
       "      <td>PRODUCT10695</td>\n",
       "      <td>BLUEBERRY BAKERY MUFFINS</td>\n",
       "      <td>READY-MADE FOOD</td>\n",
       "      <td>10.61</td>\n",
       "    </tr>\n",
       "    <tr>\n",
       "      <th>51</th>\n",
       "      <td>PRODUCT36392</td>\n",
       "      <td>CHEESECAKE KUGEL</td>\n",
       "      <td>READY-MADE FOOD</td>\n",
       "      <td>6.80</td>\n",
       "    </tr>\n",
       "    <tr>\n",
       "      <th>53</th>\n",
       "      <td>PRODUCT14085</td>\n",
       "      <td>BROILED CINNAMON TOAST</td>\n",
       "      <td>READY-MADE FOOD</td>\n",
       "      <td>8.01</td>\n",
       "    </tr>\n",
       "    <tr>\n",
       "      <th>54</th>\n",
       "      <td>PRODUCT36847</td>\n",
       "      <td>ENGLISH MUFFINS WITH BACON BUTTER</td>\n",
       "      <td>READY-MADE FOOD</td>\n",
       "      <td>12.29</td>\n",
       "    </tr>\n",
       "    <tr>\n",
       "      <th>57</th>\n",
       "      <td>PRODUCT08253</td>\n",
       "      <td>BERRY CREAM CHEESE COFFEE CAKE</td>\n",
       "      <td>READY-MADE FOOD</td>\n",
       "      <td>9.39</td>\n",
       "    </tr>\n",
       "    <tr>\n",
       "      <th>60</th>\n",
       "      <td>PRODUCT52456</td>\n",
       "      <td>EASY BREAKFAST CASSEROLE</td>\n",
       "      <td>READY-MADE FOOD</td>\n",
       "      <td>10.15</td>\n",
       "    </tr>\n",
       "    <tr>\n",
       "      <th>61</th>\n",
       "      <td>PRODUCT30026</td>\n",
       "      <td>MUFFIN TOPPINGS</td>\n",
       "      <td>READY-MADE FOOD</td>\n",
       "      <td>8.87</td>\n",
       "    </tr>\n",
       "    <tr>\n",
       "      <th>64</th>\n",
       "      <td>PRODUCT40035</td>\n",
       "      <td>ASPARAGUS OMELETTE WRAPS</td>\n",
       "      <td>READY-MADE FOOD</td>\n",
       "      <td>15.29</td>\n",
       "    </tr>\n",
       "    <tr>\n",
       "      <th>66</th>\n",
       "      <td>PRODUCT60217</td>\n",
       "      <td>PUMPKIN FRENCH TOAST WITH TOASTED WALNUTS</td>\n",
       "      <td>READY-MADE FOOD</td>\n",
       "      <td>5.89</td>\n",
       "    </tr>\n",
       "    <tr>\n",
       "      <th>68</th>\n",
       "      <td>PRODUCT27057</td>\n",
       "      <td>WHOLE GRAIN PANCAKE MIX</td>\n",
       "      <td>READY-MADE FOOD</td>\n",
       "      <td>8.44</td>\n",
       "    </tr>\n",
       "    <tr>\n",
       "      <th>70</th>\n",
       "      <td>PRODUCT31756</td>\n",
       "      <td>CREAMY SCRAMBLED EGGS IN THE MICROWAVE</td>\n",
       "      <td>READY-MADE FOOD</td>\n",
       "      <td>5.73</td>\n",
       "    </tr>\n",
       "    <tr>\n",
       "      <th>75</th>\n",
       "      <td>PRODUCT58777</td>\n",
       "      <td>BREAKFAST CASSEROLE SEASONED WITH COUNTRY GRAVY</td>\n",
       "      <td>READY-MADE FOOD</td>\n",
       "      <td>7.29</td>\n",
       "    </tr>\n",
       "  </tbody>\n",
       "</table>\n",
       "</div>"
      ],
      "text/plain": [
       "      PRODUCT_ID                                     PRODUCT_NAME  \\\n",
       "0   PRODUCT16794                   GRANDMAS SWEDISH THIN PANCAKES   \n",
       "3   PRODUCT52912                         BEST BUTTERMILK PANCAKES   \n",
       "8   PRODUCT17375                                      BAKED PEARS   \n",
       "9   PRODUCT26612                             MOMS CHEAT DOUGHNUTS   \n",
       "11  PRODUCT50553                            CHEERY CHERRY MUFFINS   \n",
       "17  PRODUCT06101            CHICKEN AND EGG ON RICE OYAKO DONBURI   \n",
       "22  PRODUCT45809                    SCRAMBLED EGGS OEUFS BROUILLS   \n",
       "24  PRODUCT07816                                      EGG FLOWERS   \n",
       "26  PRODUCT10771   SLEEPY TWISTED SISTERS G N G BREAKFAST RAMEKIN   \n",
       "29  PRODUCT47927                                HAM OMELET DELUXE   \n",
       "32  PRODUCT34734              SHIRLEYS PLAIN OR BLUEBERRY MUFFINS   \n",
       "33  PRODUCT57150        PUMPKIN GINGER SCONES WITH CINNAMON CHIPS   \n",
       "35  PRODUCT20183                                VANILLA FRUIT DIP   \n",
       "38  PRODUCT45363                 AWESOME ORANGE CHOCOLATE MUFFINS   \n",
       "41  PRODUCT18058                              EASY DANISH KRINGLE   \n",
       "42  PRODUCT29464             SAUSAGE GRAVY FOR BISCUITS AND GRAVY   \n",
       "45  PRODUCT58979       CHEF FLOWERS SIMPLE SUNDAY BRUNCH OMELETTE   \n",
       "49  PRODUCT25962                           CHILI JACK OVEN OMELET   \n",
       "50  PRODUCT10695                         BLUEBERRY BAKERY MUFFINS   \n",
       "51  PRODUCT36392                                 CHEESECAKE KUGEL   \n",
       "53  PRODUCT14085                           BROILED CINNAMON TOAST   \n",
       "54  PRODUCT36847                ENGLISH MUFFINS WITH BACON BUTTER   \n",
       "57  PRODUCT08253                   BERRY CREAM CHEESE COFFEE CAKE   \n",
       "60  PRODUCT52456                         EASY BREAKFAST CASSEROLE   \n",
       "61  PRODUCT30026                                  MUFFIN TOPPINGS   \n",
       "64  PRODUCT40035                         ASPARAGUS OMELETTE WRAPS   \n",
       "66  PRODUCT60217        PUMPKIN FRENCH TOAST WITH TOASTED WALNUTS   \n",
       "68  PRODUCT27057                          WHOLE GRAIN PANCAKE MIX   \n",
       "70  PRODUCT31756           CREAMY SCRAMBLED EGGS IN THE MICROWAVE   \n",
       "75  PRODUCT58777  BREAKFAST CASSEROLE SEASONED WITH COUNTRY GRAVY   \n",
       "\n",
       "       PRODUCT_TYPE  PRODUCT_PRICE  \n",
       "0   READY-MADE FOOD          12.81  \n",
       "3   READY-MADE FOOD           5.83  \n",
       "8   READY-MADE FOOD           9.92  \n",
       "9   READY-MADE FOOD           6.78  \n",
       "11  READY-MADE FOOD           7.53  \n",
       "17  READY-MADE FOOD          10.95  \n",
       "22  READY-MADE FOOD           6.82  \n",
       "24  READY-MADE FOOD           8.83  \n",
       "26  READY-MADE FOOD          11.60  \n",
       "29  READY-MADE FOOD          13.87  \n",
       "32  READY-MADE FOOD          13.33  \n",
       "33  READY-MADE FOOD          11.69  \n",
       "35  READY-MADE FOOD          15.41  \n",
       "38  READY-MADE FOOD          14.25  \n",
       "41  READY-MADE FOOD           8.87  \n",
       "42  READY-MADE FOOD          11.94  \n",
       "45  READY-MADE FOOD          10.80  \n",
       "49  READY-MADE FOOD           6.01  \n",
       "50  READY-MADE FOOD          10.61  \n",
       "51  READY-MADE FOOD           6.80  \n",
       "53  READY-MADE FOOD           8.01  \n",
       "54  READY-MADE FOOD          12.29  \n",
       "57  READY-MADE FOOD           9.39  \n",
       "60  READY-MADE FOOD          10.15  \n",
       "61  READY-MADE FOOD           8.87  \n",
       "64  READY-MADE FOOD          15.29  \n",
       "66  READY-MADE FOOD           5.89  \n",
       "68  READY-MADE FOOD           8.44  \n",
       "70  READY-MADE FOOD           5.73  \n",
       "75  READY-MADE FOOD           7.29  "
      ]
     },
     "execution_count": 44,
     "metadata": {},
     "output_type": "execute_result"
    }
   ],
   "source": [
    "df_product.head(30)"
   ]
  },
  {
   "cell_type": "code",
   "execution_count": 45,
   "id": "f86c0d75-5112-4a4a-8fa6-ef4a8a308b97",
   "metadata": {},
   "outputs": [],
   "source": [
    "df_product.to_parquet(\"product_column_structure.parquet\")"
   ]
  },
  {
   "cell_type": "code",
   "execution_count": 46,
   "id": "c99cff0b-24ff-41d6-a125-5d77a1c98ad7",
   "metadata": {},
   "outputs": [],
   "source": [
    "df_product.to_parquet(\"product_final_list.parquet\")"
   ]
  }
 ],
 "metadata": {
  "kernelspec": {
   "display_name": "Python 3 (ipykernel)",
   "language": "python",
   "name": "python3"
  },
  "language_info": {
   "codemirror_mode": {
    "name": "ipython",
    "version": 3
   },
   "file_extension": ".py",
   "mimetype": "text/x-python",
   "name": "python",
   "nbconvert_exporter": "python",
   "pygments_lexer": "ipython3",
   "version": "3.11.6"
  }
 },
 "nbformat": 4,
 "nbformat_minor": 5
}
