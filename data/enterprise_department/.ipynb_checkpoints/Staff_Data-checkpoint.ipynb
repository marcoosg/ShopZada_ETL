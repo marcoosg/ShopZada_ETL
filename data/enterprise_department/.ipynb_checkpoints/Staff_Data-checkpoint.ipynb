{
 "cells": [
  {
   "cell_type": "code",
   "execution_count": 6,
   "id": "f8931126-6ad4-477c-8c48-3a4fd6bb1067",
   "metadata": {
    "scrolled": true
   },
   "outputs": [],
   "source": [
    "import pandas as pd\n",
    "import numpy as np\n",
    "import lxml\n",
    "import html5lib\n",
    "import phonenumbers as pn"
   ]
  },
  {
   "cell_type": "code",
   "execution_count": 9,
   "id": "56f0dccd-8f0c-4fb5-a522-350fa747b6e4",
   "metadata": {},
   "outputs": [],
   "source": [
    "df_staff_list = pd.read_html('staff_data.html')\n",
    "df_staff = df_staff_list[0]"
   ]
  },
  {
   "cell_type": "code",
   "execution_count": 10,
   "id": "f29d4b4a-02e2-4f93-8381-4701b45c2712",
   "metadata": {},
   "outputs": [],
   "source": [
    "df_staff.loc[:,'creation_date'] = pd.to_datetime(df_staff['creation_date']).dt.date"
   ]
  },
  {
   "cell_type": "code",
   "execution_count": 11,
   "id": "5f4b0b2d-80ce-4333-ab72-577baa5d072f",
   "metadata": {},
   "outputs": [],
   "source": [
    "df_staff = df_staff.sort_values(by='creation_date')"
   ]
  },
  {
   "cell_type": "code",
   "execution_count": 12,
   "id": "5fe470ed-618f-4cbb-abb6-ed8d26e4595b",
   "metadata": {},
   "outputs": [],
   "source": [
    "df_staff.drop_duplicates()\n",
    "\n",
    "df_staff = df_staff.drop_duplicates(subset=['staff_id'],keep='last')"
   ]
  },
  {
   "cell_type": "code",
   "execution_count": 13,
   "id": "00215e67-9049-48e6-a5ed-a014b1c4e932",
   "metadata": {},
   "outputs": [],
   "source": [
    "del df_staff['Unnamed: 0']"
   ]
  },
  {
   "cell_type": "code",
   "execution_count": 14,
   "id": "096883e6-49f5-407e-95a0-1acf5c2eb0ca",
   "metadata": {},
   "outputs": [],
   "source": [
    "df_staff.loc[:, 'contact_number'] = df_staff['contact_number'].str.replace(r'[^0-9]', '', regex=True)"
   ]
  },
  {
   "cell_type": "code",
   "execution_count": 15,
   "id": "ddfe7127-1c4a-42f3-b016-872b7dca1163",
   "metadata": {},
   "outputs": [],
   "source": [
    "df_staff.loc[:, 'name'] = df_staff['name'].str.upper()\n",
    "df_staff.loc[:, 'job_level'] = df_staff['job_level'].str.upper()\n",
    "df_staff.loc[:, 'street'] = df_staff['street'].str.upper()\n",
    "df_staff.loc[:, 'state'] = df_staff['state'].str.upper()\n",
    "df_staff.loc[:, 'city'] = df_staff['city'].str.upper()\n",
    "df_staff.loc[:, 'country'] = df_staff['country'].str.upper()"
   ]
  },
  {
   "cell_type": "code",
   "execution_count": 16,
   "id": "0c4ec4b3-321d-42a2-b8ab-dc82d36f5a16",
   "metadata": {},
   "outputs": [],
   "source": [
    "df_staff.columns = df_staff.columns.str.upper()"
   ]
  },
  {
   "cell_type": "code",
   "execution_count": 11,
   "id": "c78fc89e-1881-4e10-a287-89a49ff7fa9a",
   "metadata": {},
   "outputs": [],
   "source": [
    "df_staff.to_parquet(\"fixed_staff_data.parquet\")"
   ]
  },
  {
   "cell_type": "code",
   "execution_count": 19,
   "id": "a9018f34-9c30-4aaf-b496-5b5e8a280777",
   "metadata": {},
   "outputs": [
    {
     "name": "stdout",
     "output_type": "stream",
     "text": [
      "<class 'pandas.core.frame.DataFrame'>\n",
      "Index: 4794 entries, 4226 to 2280\n",
      "Data columns (total 9 columns):\n",
      " #   Column          Non-Null Count  Dtype \n",
      "---  ------          --------------  ----- \n",
      " 0   STAFF_ID        4794 non-null   object\n",
      " 1   NAME            4794 non-null   object\n",
      " 2   JOB_LEVEL       4794 non-null   object\n",
      " 3   STREET          4794 non-null   object\n",
      " 4   STATE           4794 non-null   object\n",
      " 5   CITY            4794 non-null   object\n",
      " 6   COUNTRY         4794 non-null   object\n",
      " 7   CONTACT_NUMBER  4794 non-null   object\n",
      " 8   CREATION_DATE   4794 non-null   object\n",
      "dtypes: object(9)\n",
      "memory usage: 374.5+ KB\n"
     ]
    },
    {
     "data": {
      "text/html": [
       "<div>\n",
       "<style scoped>\n",
       "    .dataframe tbody tr th:only-of-type {\n",
       "        vertical-align: middle;\n",
       "    }\n",
       "\n",
       "    .dataframe tbody tr th {\n",
       "        vertical-align: top;\n",
       "    }\n",
       "\n",
       "    .dataframe thead th {\n",
       "        text-align: right;\n",
       "    }\n",
       "</style>\n",
       "<table border=\"1\" class=\"dataframe\">\n",
       "  <thead>\n",
       "    <tr style=\"text-align: right;\">\n",
       "      <th></th>\n",
       "      <th>STAFF_ID</th>\n",
       "      <th>NAME</th>\n",
       "      <th>JOB_LEVEL</th>\n",
       "      <th>STREET</th>\n",
       "      <th>STATE</th>\n",
       "      <th>CITY</th>\n",
       "      <th>COUNTRY</th>\n",
       "      <th>CONTACT_NUMBER</th>\n",
       "      <th>CREATION_DATE</th>\n",
       "    </tr>\n",
       "  </thead>\n",
       "  <tbody>\n",
       "    <tr>\n",
       "      <th>4226</th>\n",
       "      <td>STAFF0034102</td>\n",
       "      <td>RUSTY MULLER</td>\n",
       "      <td>ENTRY</td>\n",
       "      <td>75849 NEW SPRING MOUTH</td>\n",
       "      <td>NEBRASKA</td>\n",
       "      <td>WICHITA</td>\n",
       "      <td>SAINT KITTS AND NEVIS</td>\n",
       "      <td>4517491606</td>\n",
       "      <td>2020-01-01</td>\n",
       "    </tr>\n",
       "    <tr>\n",
       "      <th>3009</th>\n",
       "      <td>STAFF0014596</td>\n",
       "      <td>CANDIDO KOHLER</td>\n",
       "      <td>ENTRY</td>\n",
       "      <td>83408 NEW KEY BURGH</td>\n",
       "      <td>UTAH</td>\n",
       "      <td>HENDERSON</td>\n",
       "      <td>BOUVET ISLAND</td>\n",
       "      <td>5458031303</td>\n",
       "      <td>2020-01-02</td>\n",
       "    </tr>\n",
       "    <tr>\n",
       "      <th>917</th>\n",
       "      <td>STAFF0016402</td>\n",
       "      <td>SCHUYLER DURGAN</td>\n",
       "      <td>INTERMEDIATE</td>\n",
       "      <td>471 FORKS LAND</td>\n",
       "      <td>NEW YORK</td>\n",
       "      <td>OMAHA</td>\n",
       "      <td>NORTHERN MARIANA ISLANDS</td>\n",
       "      <td>3624273550</td>\n",
       "      <td>2020-01-03</td>\n",
       "    </tr>\n",
       "    <tr>\n",
       "      <th>3430</th>\n",
       "      <td>STAFF0015639</td>\n",
       "      <td>JOEY BINS</td>\n",
       "      <td>ENTRY</td>\n",
       "      <td>798 VILLAGE STAD</td>\n",
       "      <td>ARKANSAS</td>\n",
       "      <td>SEATTLE</td>\n",
       "      <td>ALBANIA</td>\n",
       "      <td>4832050084</td>\n",
       "      <td>2020-01-03</td>\n",
       "    </tr>\n",
       "    <tr>\n",
       "      <th>577</th>\n",
       "      <td>STAFF0032508</td>\n",
       "      <td>FLAVIO PRICE</td>\n",
       "      <td>ENTRY</td>\n",
       "      <td>962 CORNERS MOUTH</td>\n",
       "      <td>GEORGIA</td>\n",
       "      <td>CHARLOTTE</td>\n",
       "      <td>NORWAY</td>\n",
       "      <td>6644416626</td>\n",
       "      <td>2020-01-03</td>\n",
       "    </tr>\n",
       "  </tbody>\n",
       "</table>\n",
       "</div>"
      ],
      "text/plain": [
       "          STAFF_ID             NAME     JOB_LEVEL                  STREET  \\\n",
       "4226  STAFF0034102     RUSTY MULLER         ENTRY  75849 NEW SPRING MOUTH   \n",
       "3009  STAFF0014596   CANDIDO KOHLER         ENTRY     83408 NEW KEY BURGH   \n",
       "917   STAFF0016402  SCHUYLER DURGAN  INTERMEDIATE          471 FORKS LAND   \n",
       "3430  STAFF0015639        JOEY BINS         ENTRY        798 VILLAGE STAD   \n",
       "577   STAFF0032508     FLAVIO PRICE         ENTRY       962 CORNERS MOUTH   \n",
       "\n",
       "         STATE       CITY                   COUNTRY CONTACT_NUMBER  \\\n",
       "4226  NEBRASKA    WICHITA     SAINT KITTS AND NEVIS     4517491606   \n",
       "3009      UTAH  HENDERSON             BOUVET ISLAND     5458031303   \n",
       "917   NEW YORK      OMAHA  NORTHERN MARIANA ISLANDS     3624273550   \n",
       "3430  ARKANSAS    SEATTLE                   ALBANIA     4832050084   \n",
       "577    GEORGIA  CHARLOTTE                    NORWAY     6644416626   \n",
       "\n",
       "     CREATION_DATE  \n",
       "4226    2020-01-01  \n",
       "3009    2020-01-02  \n",
       "917     2020-01-03  \n",
       "3430    2020-01-03  \n",
       "577     2020-01-03  "
      ]
     },
     "execution_count": 19,
     "metadata": {},
     "output_type": "execute_result"
    }
   ],
   "source": [
    "\n",
    "df_staff.info()\n",
    "df_staff.head()"
   ]
  },
  {
   "cell_type": "code",
   "execution_count": null,
   "id": "56d9b459-8694-4752-887b-6e3b9411319a",
   "metadata": {},
   "outputs": [],
   "source": []
  }
 ],
 "metadata": {
  "kernelspec": {
   "display_name": "Python 3 (ipykernel)",
   "language": "python",
   "name": "python3"
  },
  "language_info": {
   "codemirror_mode": {
    "name": "ipython",
    "version": 3
   },
   "file_extension": ".py",
   "mimetype": "text/x-python",
   "name": "python",
   "nbconvert_exporter": "python",
   "pygments_lexer": "ipython3",
   "version": "3.11.6"
  }
 },
 "nbformat": 4,
 "nbformat_minor": 5
}
