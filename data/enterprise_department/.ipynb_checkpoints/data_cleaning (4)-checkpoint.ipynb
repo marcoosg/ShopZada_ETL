{
 "cells": [
  {
   "cell_type": "code",
   "execution_count": 1,
   "id": "0b6f18f4-59ef-4e3c-a67f-835b7734be2e",
   "metadata": {},
   "outputs": [],
   "source": [
    "import pandas as pd\n",
    "import numpy as np\n",
    "import sqlite3\n",
    "\n",
    "# Read json\n",
    "df_branch_service = pd.read_json(\"branch_service_transaction_info.json\")\n",
    "df_customer_transaction = pd.read_json(\"customer_transaction_info.json\")\n",
    "\n",
    "# Merge data frames\n",
    "merged_df = pd.merge(df_branch_service, df_customer_transaction, on='txn_id')"
   ]
  },
  {
   "cell_type": "code",
   "execution_count": 2,
   "id": "a145074a-ab63-4472-86d8-1802148bdf4e",
   "metadata": {},
   "outputs": [],
   "source": [
    "#Delete duplicates\n",
    "merged_df = merged_df.drop_duplicates()"
   ]
  },
  {
   "cell_type": "code",
   "execution_count": 3,
   "id": "fc583712-e42d-406d-8c37-e1a5da016f11",
   "metadata": {},
   "outputs": [],
   "source": [
    "# Standardize price\n",
    "merged_df['price'] = merged_df['price'].round(2)"
   ]
  },
  {
   "cell_type": "code",
   "execution_count": 4,
   "id": "28ea4f0d-4759-4711-baf0-363fa9778307",
   "metadata": {},
   "outputs": [],
   "source": [
    "# Remove rows where price is null\n",
    "merged_df = merged_df.dropna(subset=[\"price\"])\n",
    "\n",
    "# Remove rows where first_name is null\n",
    "merged_df = merged_df.dropna(subset=[\"first_name\"])\n",
    "\n",
    "# Remove rows where last_name is null\n",
    "merged_df = merged_df.dropna(subset=[\"last_name\"])\n",
    "\n",
    "#Remove rows where price is 0.00\n",
    "merged_df = merged_df[merged_df['price'] > 0.00]"
   ]
  },
  {
   "cell_type": "code",
   "execution_count": 5,
   "id": "09c6b608-7bc3-4772-a497-8524cba40662",
   "metadata": {},
   "outputs": [],
   "source": [
    "# Remove symbols in first_name\n",
    "merged_df['first_name'] = merged_df['first_name'].str.replace('[^a-zA-Z\\\\s]', '', regex=True)\n",
    "\n",
    "# Remove symbols in last_name\n",
    "merged_df['last_name'] = merged_df['last_name'].str.replace('[^a-zA-Z\\\\s]', '', regex=True)"
   ]
  },
  {
   "cell_type": "code",
   "execution_count": 6,
   "id": "4d7d7531-ddd7-4267-aa5c-f31628225956",
   "metadata": {},
   "outputs": [],
   "source": [
    "# Convert date columns to datetime format\n",
    "merged_df['avail_date'] = pd.to_datetime(merged_df['avail_date'])\n",
    "merged_df['birthday'] = pd.to_datetime(merged_df['birthday'])"
   ]
  },
  {
   "cell_type": "code",
   "execution_count": 7,
   "id": "d044374a-26f9-493d-9aaa-db04c91da53a",
   "metadata": {},
   "outputs": [],
   "source": [
    "# Convert to upper case\n",
    "merged_df.loc[:, 'branch_name'] = merged_df['branch_name'].str.upper()\n",
    "merged_df.loc[:, 'service'] = merged_df['service'].str.upper()\n",
    "merged_df.loc[:, 'last_name'] = merged_df['last_name'].str.upper()\n",
    "merged_df.loc[:, 'first_name'] = merged_df['first_name'].str.upper()"
   ]
  },
  {
   "cell_type": "code",
   "execution_count": 8,
   "id": "f1cf3e35-4807-4b69-9a17-d49742a8809c",
   "metadata": {},
   "outputs": [],
   "source": [
    "#remove entries where the age is less than 12 years and service is rebond\n",
    "condition_to_remove = (merged_df['service'] == 'REBOND') & ((merged_df['avail_date'] - merged_df['birthday']).dt.days < 4380)\n",
    "merged_df = merged_df[~condition_to_remove]"
   ]
  },
  {
   "cell_type": "code",
   "execution_count": 9,
   "id": "5292bd4c-d6bb-4116-afa8-91ab9ece1e5f",
   "metadata": {},
   "outputs": [],
   "source": [
    "#remove entries where the age is less than 6 years and service is footspa\n",
    "condition_to_remove = (merged_df['service'] == 'FOOTSPA') & ((merged_df['avail_date'] - merged_df['birthday']).dt.days < 2190)\n",
    "merged_df = merged_df[~condition_to_remove]"
   ]
  },
  {
   "cell_type": "code",
   "execution_count": 10,
   "id": "9071e82a-f5b9-49eb-9acf-945304593631",
   "metadata": {},
   "outputs": [],
   "source": [
    "#remov entries where the age is less than 10 years and service is hair color\n",
    "condition_to_remove = (merged_df['service'] == 'HAIRCOLOR') & ((merged_df['avail_date'] - merged_df['birthday']).dt.days < 3650)\n",
    "merged_df = merged_df[~condition_to_remove]"
   ]
  },
  {
   "cell_type": "code",
   "execution_count": 11,
   "id": "700afca6-ae55-4058-867a-e38d910aba3a",
   "metadata": {},
   "outputs": [],
   "source": [
    "#remove entries where the age is less than 1 day\n",
    "condition_to_remove = ((merged_df['avail_date'] - merged_df['birthday']).dt.days < 1)\n",
    "merged_df = merged_df[~condition_to_remove]"
   ]
  },
  {
   "cell_type": "code",
   "execution_count": 12,
   "id": "e33d3d59-6733-4240-b671-49d71232c67c",
   "metadata": {},
   "outputs": [],
   "source": [
    "#Remove invalid dates (Dates after 2023)\n",
    "specific_date = pd.to_datetime('2024-01-01')\n",
    "merged_df = merged_df[merged_df['avail_date'] < specific_date]"
   ]
  },
  {
   "cell_type": "code",
   "execution_count": 13,
   "id": "b9abb178-4651-4f3b-be21-e3e23ba249ee",
   "metadata": {},
   "outputs": [],
   "source": [
    "#Drop duplicates\n",
    "merged_df = merged_df.drop_duplicates(subset=['service', 'avail_date', 'last_name', 'first_name', 'birthday'], keep='first')"
   ]
  },
  {
   "cell_type": "code",
   "execution_count": 14,
   "id": "9d8e72db-1d18-4d18-b488-79299e583ba1",
   "metadata": {},
   "outputs": [],
   "source": [
    "#replace N/As with None\n",
    "merged_df['branch_name'] = merged_df['branch_name'].replace('N/A', None)\n",
    "merged_df['service'] = merged_df['service'].replace('N/A', None)\n",
    "\n",
    "#replace blank spaces with None\n",
    "merged_df['branch_name'] = merged_df['branch_name'].replace('', None)\n",
    "merged_df['service'] = merged_df['service'].replace('', None)"
   ]
  },
  {
   "cell_type": "code",
   "execution_count": 16,
   "id": "2a0ce438-1565-4ab0-8447-3134c7536486",
   "metadata": {},
   "outputs": [
    {
     "data": {
      "text/html": [
       "<div>\n",
       "<style scoped>\n",
       "    .dataframe tbody tr th:only-of-type {\n",
       "        vertical-align: middle;\n",
       "    }\n",
       "\n",
       "    .dataframe tbody tr th {\n",
       "        vertical-align: top;\n",
       "    }\n",
       "\n",
       "    .dataframe thead th {\n",
       "        text-align: right;\n",
       "    }\n",
       "</style>\n",
       "<table border=\"1\" class=\"dataframe\">\n",
       "  <thead>\n",
       "    <tr style=\"text-align: right;\">\n",
       "      <th></th>\n",
       "      <th></th>\n",
       "      <th></th>\n",
       "      <th>price</th>\n",
       "    </tr>\n",
       "    <tr>\n",
       "      <th>start_date</th>\n",
       "      <th>end_date</th>\n",
       "      <th>service</th>\n",
       "      <th></th>\n",
       "    </tr>\n",
       "  </thead>\n",
       "  <tbody>\n",
       "    <tr>\n",
       "      <th rowspan=\"3\" valign=\"top\">2004-12-27</th>\n",
       "      <th rowspan=\"3\" valign=\"top\">2005-01-02</th>\n",
       "      <th>MANICURE</th>\n",
       "      <td>55.23</td>\n",
       "    </tr>\n",
       "    <tr>\n",
       "      <th>NAILCOLOR</th>\n",
       "      <td>60.24</td>\n",
       "    </tr>\n",
       "    <tr>\n",
       "      <th>PEDICURE</th>\n",
       "      <td>155.98</td>\n",
       "    </tr>\n",
       "    <tr>\n",
       "      <th rowspan=\"7\" valign=\"top\">2005-01-03</th>\n",
       "      <th rowspan=\"7\" valign=\"top\">2005-01-09</th>\n",
       "      <th>FOOTSPA</th>\n",
       "      <td>400.48</td>\n",
       "    </tr>\n",
       "    <tr>\n",
       "      <th>HAIRCOLOR</th>\n",
       "      <td>88.09</td>\n",
       "    </tr>\n",
       "    <tr>\n",
       "      <th>HAIRCUT</th>\n",
       "      <td>330.60</td>\n",
       "    </tr>\n",
       "    <tr>\n",
       "      <th>MANICURE</th>\n",
       "      <td>55.23</td>\n",
       "    </tr>\n",
       "    <tr>\n",
       "      <th>NAILCOLOR</th>\n",
       "      <td>120.48</td>\n",
       "    </tr>\n",
       "    <tr>\n",
       "      <th>PEDICURE</th>\n",
       "      <td>233.97</td>\n",
       "    </tr>\n",
       "    <tr>\n",
       "      <th>REBOND</th>\n",
       "      <td>400.23</td>\n",
       "    </tr>\n",
       "  </tbody>\n",
       "</table>\n",
       "</div>"
      ],
      "text/plain": [
       "                                  price\n",
       "start_date end_date   service          \n",
       "2004-12-27 2005-01-02 MANICURE    55.23\n",
       "                      NAILCOLOR   60.24\n",
       "                      PEDICURE   155.98\n",
       "2005-01-03 2005-01-09 FOOTSPA    400.48\n",
       "                      HAIRCOLOR   88.09\n",
       "                      HAIRCUT    330.60\n",
       "                      MANICURE    55.23\n",
       "                      NAILCOLOR  120.48\n",
       "                      PEDICURE   233.97\n",
       "                      REBOND     400.23"
      ]
     },
     "execution_count": 16,
     "metadata": {},
     "output_type": "execute_result"
    }
   ],
   "source": [
    "# Calculate the start of the week and end of the week (always Sunday)\n",
    "merged_df['start_date'] = merged_df['avail_date'] - pd.to_timedelta(merged_df['avail_date'].dt.dayofweek, unit='D')\n",
    "merged_df['end_date'] = merged_df['start_date'].apply(lambda x: x + pd.DateOffset(weekday=6))\n",
    "\n",
    "# Group by start date, end date, and branch_name, then sum the prices\n",
    "result_df = merged_df.groupby(['start_date', 'end_date', 'service'])['price'].sum().to_frame()\n",
    "result_df.head(10)"
   ]
  },
  {
   "cell_type": "code",
   "execution_count": 17,
   "id": "f9731732-1e7b-410a-a2f7-2fd7f19ffda8",
   "metadata": {},
   "outputs": [],
   "source": [
    "db_connection = sqlite3.connect('data_cleaning.db')\n",
    "cursor = db_connection.cursor()\n",
    "result_df.to_sql('data_cleaning', db_connection, index=False, if_exists='replace')\n",
    "\n",
    "# Commit changes and close the connection\n",
    "db_connection.commit()\n",
    "db_connection.close()"
   ]
  },
  {
   "cell_type": "code",
   "execution_count": null,
   "id": "33f745ed-50de-47f9-9fa4-38de04984c66",
   "metadata": {},
   "outputs": [],
   "source": []
  },
  {
   "cell_type": "code",
   "execution_count": null,
   "id": "fcbe460f-de99-4e5b-a254-c93fd72ba1aa",
   "metadata": {},
   "outputs": [],
   "source": []
  }
 ],
 "metadata": {
  "kernelspec": {
   "display_name": "Python 3 (ipykernel)",
   "language": "python",
   "name": "python3"
  },
  "language_info": {
   "codemirror_mode": {
    "name": "ipython",
    "version": 3
   },
   "file_extension": ".py",
   "mimetype": "text/x-python",
   "name": "python",
   "nbconvert_exporter": "python",
   "pygments_lexer": "ipython3",
   "version": "3.11.5"
  }
 },
 "nbformat": 4,
 "nbformat_minor": 5
}
