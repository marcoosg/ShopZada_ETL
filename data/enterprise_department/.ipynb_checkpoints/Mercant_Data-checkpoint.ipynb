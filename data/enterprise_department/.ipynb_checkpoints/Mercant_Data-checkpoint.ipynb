{
 "cells": [
  {
   "cell_type": "code",
   "execution_count": 14,
   "id": "f8931126-6ad4-477c-8c48-3a4fd6bb1067",
   "metadata": {},
   "outputs": [],
   "source": [
    "import pandas as pd\n",
    "import numpy as np\n",
    "import lxml\n",
    "import html5lib\n",
    "import phonenumbers as pn"
   ]
  },
  {
   "cell_type": "code",
   "execution_count": 15,
   "id": "56f0dccd-8f0c-4fb5-a522-350fa747b6e4",
   "metadata": {},
   "outputs": [],
   "source": [
    "df_merchant_list = pd.read_html('merchant_data.html')\n",
    "df_merchant = df_merchant_list[0]"
   ]
  },
  {
   "cell_type": "code",
   "execution_count": 3,
   "id": "f29d4b4a-02e2-4f93-8381-4701b45c2712",
   "metadata": {},
   "outputs": [],
   "source": [
    "df_merchant.loc[:,'creation_date'] = pd.to_datetime(df_merchant['creation_date']).dt.date"
   ]
  },
  {
   "cell_type": "code",
   "execution_count": 4,
   "id": "32758d6f-8fad-41a2-bb0c-9521e0e59bc1",
   "metadata": {},
   "outputs": [],
   "source": [
    "df_merchant.to_parquet(\"convert_to_date.parquet\")"
   ]
  },
  {
   "cell_type": "code",
   "execution_count": 5,
   "id": "5f4b0b2d-80ce-4333-ab72-577baa5d072f",
   "metadata": {},
   "outputs": [],
   "source": [
    "df_merchant = df_merchant.sort_values(by='creation_date')"
   ]
  },
  {
   "cell_type": "code",
   "execution_count": 6,
   "id": "5fe470ed-618f-4cbb-abb6-ed8d26e4595b",
   "metadata": {},
   "outputs": [],
   "source": [
    "df_merchant.drop_duplicates()\n",
    "\n",
    "df_merchant = df_merchant.drop_duplicates(subset=['merchant_id'],keep='last')"
   ]
  },
  {
   "cell_type": "code",
   "execution_count": 7,
   "id": "00215e67-9049-48e6-a5ed-a014b1c4e932",
   "metadata": {},
   "outputs": [],
   "source": [
    "del df_merchant['Unnamed: 0']"
   ]
  },
  {
   "cell_type": "code",
   "execution_count": 8,
   "id": "096883e6-49f5-407e-95a0-1acf5c2eb0ca",
   "metadata": {},
   "outputs": [],
   "source": [
    "df_merchant.loc[:, 'contact_number'] = df_merchant['contact_number'].str.replace(r'[^0-9]', '', regex=True)"
   ]
  },
  {
   "cell_type": "code",
   "execution_count": 9,
   "id": "ddfe7127-1c4a-42f3-b016-872b7dca1163",
   "metadata": {},
   "outputs": [],
   "source": [
    "df_merchant.loc[:, 'name'] = df_merchant['name'].str.upper()\n",
    "df_merchant.loc[:, 'street'] = df_merchant['street'].str.upper()\n",
    "df_merchant.loc[:, 'state'] = df_merchant['state'].str.upper()\n",
    "df_merchant.loc[:, 'city'] = df_merchant['city'].str.upper()\n",
    "df_merchant.loc[:, 'country'] = df_merchant['country'].str.upper()"
   ]
  },
  {
   "cell_type": "code",
   "execution_count": 10,
   "id": "0c4ec4b3-321d-42a2-b8ab-dc82d36f5a16",
   "metadata": {},
   "outputs": [],
   "source": [
    "df_merchant.columns = df_merchant.columns.str.upper()"
   ]
  },
  {
   "cell_type": "code",
   "execution_count": 11,
   "id": "c78fc89e-1881-4e10-a287-89a49ff7fa9a",
   "metadata": {},
   "outputs": [],
   "source": [
    "df_merchant.to_parquet(\"fixed_merchant_data.parquet\")"
   ]
  },
  {
   "cell_type": "code",
   "execution_count": 13,
   "id": "cf5df5ba-d4fc-48de-9298-28b3a67a3927",
   "metadata": {},
   "outputs": [
    {
     "name": "stdout",
     "output_type": "stream",
     "text": [
      "<class 'pandas.core.frame.DataFrame'>\n",
      "Index: 4812 entries, 2771 to 4905\n",
      "Data columns (total 8 columns):\n",
      " #   Column          Non-Null Count  Dtype \n",
      "---  ------          --------------  ----- \n",
      " 0   MERCHANT_ID     4812 non-null   object\n",
      " 1   CREATION_DATE   4812 non-null   object\n",
      " 2   NAME            4812 non-null   object\n",
      " 3   STREET          4812 non-null   object\n",
      " 4   STATE           4812 non-null   object\n",
      " 5   CITY            4812 non-null   object\n",
      " 6   COUNTRY         4812 non-null   object\n",
      " 7   CONTACT_NUMBER  4812 non-null   object\n",
      "dtypes: object(8)\n",
      "memory usage: 338.3+ KB\n"
     ]
    },
    {
     "data": {
      "text/html": [
       "<div>\n",
       "<style scoped>\n",
       "    .dataframe tbody tr th:only-of-type {\n",
       "        vertical-align: middle;\n",
       "    }\n",
       "\n",
       "    .dataframe tbody tr th {\n",
       "        vertical-align: top;\n",
       "    }\n",
       "\n",
       "    .dataframe thead th {\n",
       "        text-align: right;\n",
       "    }\n",
       "</style>\n",
       "<table border=\"1\" class=\"dataframe\">\n",
       "  <thead>\n",
       "    <tr style=\"text-align: right;\">\n",
       "      <th></th>\n",
       "      <th>MERCHANT_ID</th>\n",
       "      <th>CREATION_DATE</th>\n",
       "      <th>NAME</th>\n",
       "      <th>STREET</th>\n",
       "      <th>STATE</th>\n",
       "      <th>CITY</th>\n",
       "      <th>COUNTRY</th>\n",
       "      <th>CONTACT_NUMBER</th>\n",
       "    </tr>\n",
       "  </thead>\n",
       "  <tbody>\n",
       "    <tr>\n",
       "      <th>2771</th>\n",
       "      <td>MERCHANT32619</td>\n",
       "      <td>2020-01-01</td>\n",
       "      <td>PEV4ME.COM</td>\n",
       "      <td>99419 UNDERPASS BERG</td>\n",
       "      <td>ALABAMA</td>\n",
       "      <td>HOUSTON</td>\n",
       "      <td>NORTH MACEDONIA</td>\n",
       "      <td>7270557261</td>\n",
       "    </tr>\n",
       "    <tr>\n",
       "      <th>4125</th>\n",
       "      <td>MERCHANT39473</td>\n",
       "      <td>2020-01-01</td>\n",
       "      <td>STILLWATER SUPERCOMPUTING INC</td>\n",
       "      <td>935 CORNER LAND</td>\n",
       "      <td>WASHINGTON</td>\n",
       "      <td>TOLEDO</td>\n",
       "      <td>BELGIUM</td>\n",
       "      <td>9205789054</td>\n",
       "    </tr>\n",
       "    <tr>\n",
       "      <th>530</th>\n",
       "      <td>MERCHANT21747</td>\n",
       "      <td>2020-01-01</td>\n",
       "      <td>THE VANGUARD GROUP</td>\n",
       "      <td>4584 PORT LOCKS VILLE</td>\n",
       "      <td>INDIANA</td>\n",
       "      <td>LAREDO</td>\n",
       "      <td>SUDAN</td>\n",
       "      <td>7586307747</td>\n",
       "    </tr>\n",
       "    <tr>\n",
       "      <th>2397</th>\n",
       "      <td>MERCHANT31240</td>\n",
       "      <td>2020-01-01</td>\n",
       "      <td>LUMESIS, INC.</td>\n",
       "      <td>991 WALL TOWN</td>\n",
       "      <td>ALABAMA</td>\n",
       "      <td>ARLINGTON</td>\n",
       "      <td>COMOROS</td>\n",
       "      <td>7286823471</td>\n",
       "    </tr>\n",
       "    <tr>\n",
       "      <th>4596</th>\n",
       "      <td>MERCHANT33792</td>\n",
       "      <td>2020-01-02</td>\n",
       "      <td>(LEG)CYTE</td>\n",
       "      <td>779 COVES MOUTH</td>\n",
       "      <td>UTAH</td>\n",
       "      <td>BOISE</td>\n",
       "      <td>MALDIVES</td>\n",
       "      <td>4339071910</td>\n",
       "    </tr>\n",
       "  </tbody>\n",
       "</table>\n",
       "</div>"
      ],
      "text/plain": [
       "        MERCHANT_ID CREATION_DATE                           NAME  \\\n",
       "2771  MERCHANT32619    2020-01-01                     PEV4ME.COM   \n",
       "4125  MERCHANT39473    2020-01-01  STILLWATER SUPERCOMPUTING INC   \n",
       "530   MERCHANT21747    2020-01-01             THE VANGUARD GROUP   \n",
       "2397  MERCHANT31240    2020-01-01                  LUMESIS, INC.   \n",
       "4596  MERCHANT33792    2020-01-02                      (LEG)CYTE   \n",
       "\n",
       "                     STREET       STATE       CITY          COUNTRY  \\\n",
       "2771   99419 UNDERPASS BERG     ALABAMA    HOUSTON  NORTH MACEDONIA   \n",
       "4125        935 CORNER LAND  WASHINGTON     TOLEDO          BELGIUM   \n",
       "530   4584 PORT LOCKS VILLE     INDIANA     LAREDO            SUDAN   \n",
       "2397          991 WALL TOWN     ALABAMA  ARLINGTON          COMOROS   \n",
       "4596        779 COVES MOUTH        UTAH      BOISE         MALDIVES   \n",
       "\n",
       "     CONTACT_NUMBER  \n",
       "2771     7270557261  \n",
       "4125     9205789054  \n",
       "530      7586307747  \n",
       "2397     7286823471  \n",
       "4596     4339071910  "
      ]
     },
     "execution_count": 13,
     "metadata": {},
     "output_type": "execute_result"
    }
   ],
   "source": [
    "df_merchant.info()\n",
    "df_merchant.head()"
   ]
  },
  {
   "cell_type": "code",
   "execution_count": null,
   "id": "d6d5f29d-82f8-44f3-9c68-2ed4eac2b314",
   "metadata": {},
   "outputs": [],
   "source": []
  }
 ],
 "metadata": {
  "kernelspec": {
   "display_name": "Python 3 (ipykernel)",
   "language": "python",
   "name": "python3"
  },
  "language_info": {
   "codemirror_mode": {
    "name": "ipython",
    "version": 3
   },
   "file_extension": ".py",
   "mimetype": "text/x-python",
   "name": "python",
   "nbconvert_exporter": "python",
   "pygments_lexer": "ipython3",
   "version": "3.11.6"
  }
 },
 "nbformat": 4,
 "nbformat_minor": 5
}
