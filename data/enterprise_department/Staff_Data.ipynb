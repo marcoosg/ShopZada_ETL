{
 "cells": [
  {
   "cell_type": "code",
   "execution_count": 1,
   "id": "f8931126-6ad4-477c-8c48-3a4fd6bb1067",
   "metadata": {},
   "outputs": [],
   "source": [
    "import pandas as pd\n",
    "import numpy as np\n",
    "import lxml\n",
    "import html5lib\n",
    "import phonenumbers as pn"
   ]
  },
  {
   "cell_type": "code",
   "execution_count": 2,
   "id": "56f0dccd-8f0c-4fb5-a522-350fa747b6e4",
   "metadata": {},
   "outputs": [],
   "source": [
    "df_staff_list = pd.read_html('../../../data/enterprise_department/staff_data.html')\n",
    "df_staff = df_staff_list[0]"
   ]
  },
  {
   "cell_type": "code",
   "execution_count": 3,
   "id": "f29d4b4a-02e2-4f93-8381-4701b45c2712",
   "metadata": {},
   "outputs": [],
   "source": [
    "df_staff.loc[:,'creation_date'] = pd.to_datetime(df_staff['creation_date']).dt.date"
   ]
  },
  {
   "cell_type": "code",
   "execution_count": 4,
   "id": "5f4b0b2d-80ce-4333-ab72-577baa5d072f",
   "metadata": {},
   "outputs": [],
   "source": [
    "df_staff = df_staff.sort_values(by='creation_date')"
   ]
  },
  {
   "cell_type": "code",
   "execution_count": 5,
   "id": "5fe470ed-618f-4cbb-abb6-ed8d26e4595b",
   "metadata": {},
   "outputs": [],
   "source": [
    "df_staff.drop_duplicates()\n",
    "\n",
    "df_staff = df_staff.drop_duplicates(subset=['staff_id'],keep='last')"
   ]
  },
  {
   "cell_type": "code",
   "execution_count": 6,
   "id": "00215e67-9049-48e6-a5ed-a014b1c4e932",
   "metadata": {},
   "outputs": [],
   "source": [
    "del df_staff['Unnamed: 0']"
   ]
  },
  {
   "cell_type": "code",
   "execution_count": 7,
   "id": "096883e6-49f5-407e-95a0-1acf5c2eb0ca",
   "metadata": {},
   "outputs": [],
   "source": [
    "df_staff.loc[:, 'contact_number'] = df_staff['contact_number'].str.replace(r'[^0-9]', '', regex=True)"
   ]
  },
  {
   "cell_type": "code",
   "execution_count": 8,
   "id": "ddfe7127-1c4a-42f3-b016-872b7dca1163",
   "metadata": {},
   "outputs": [],
   "source": [
    "df_staff.loc[:, 'name'] = df_staff['name'].str.upper()\n",
    "df_staff.loc[:, 'job_level'] = df_staff['job_level'].str.upper()\n",
    "df_staff.loc[:, 'street'] = df_staff['street'].str.upper()\n",
    "df_staff.loc[:, 'state'] = df_staff['state'].str.upper()\n",
    "df_staff.loc[:, 'city'] = df_staff['city'].str.upper()\n",
    "df_staff.loc[:, 'country'] = df_staff['country'].str.upper()"
   ]
  },
  {
   "cell_type": "code",
   "execution_count": 9,
   "id": "0c4ec4b3-321d-42a2-b8ab-dc82d36f5a16",
   "metadata": {},
   "outputs": [],
   "source": [
    "df_staff.columns = df_staff.columns.str.upper()"
   ]
  },
  {
   "cell_type": "code",
   "execution_count": 11,
   "id": "c78fc89e-1881-4e10-a287-89a49ff7fa9a",
   "metadata": {},
   "outputs": [],
   "source": [
    "df_staff.to_parquet(\"fixed_staff_data.parquet\")"
   ]
  }
 ],
 "metadata": {
  "kernelspec": {
   "display_name": "Python 3 (ipykernel)",
   "language": "python",
   "name": "python3"
  },
  "language_info": {
   "codemirror_mode": {
    "name": "ipython",
    "version": 3
   },
   "file_extension": ".py",
   "mimetype": "text/x-python",
   "name": "python",
   "nbconvert_exporter": "python",
   "pygments_lexer": "ipython3",
   "version": "3.12.0"
  }
 },
 "nbformat": 4,
 "nbformat_minor": 5
}
