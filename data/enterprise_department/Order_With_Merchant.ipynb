{
 "cells": [
  {
   "cell_type": "code",
   "execution_count": 1,
   "id": "d950e5db-1bf8-4082-b2a9-0ba5a7c76a56",
   "metadata": {},
   "outputs": [],
   "source": [
    "import pandas as pd\n",
    "import numpy as np\n",
    "import lxml\n",
    "import html5lib\n",
    "import phonenumbers as pn"
   ]
  },
  {
   "cell_type": "code",
   "execution_count": 2,
   "id": "13cdf949-221e-4886-ba3a-7fb5fa30fc15",
   "metadata": {},
   "outputs": [],
   "source": [
    "df_data1 = pd.read_parquet('../../../data/enterprise_department/order_with_merchant_data1.parquet')\n",
    "df_data2 = pd.read_parquet('../../../data/enterprise_department/order_with_merchant_data2.parquet')\n",
    "df_data3 = pd.read_csv('../../../data/enterprise_department/order_with_merchant_data3.csv')\n",
    "\n",
    "appended_df = pd.concat([df_data1, df_data2, df_data3], ignore_index=True)"
   ]
  },
  {
   "cell_type": "code",
   "execution_count": 3,
   "id": "d8c1981b-df65-400c-a29c-5fa67b514048",
   "metadata": {},
   "outputs": [],
   "source": [
    "del appended_df['Unnamed: 0']"
   ]
  },
  {
   "cell_type": "code",
   "execution_count": 6,
   "id": "baa2798f-378e-4662-a4cf-e4f1e6c22672",
   "metadata": {},
   "outputs": [],
   "source": [
    "appended_df.columns = appended_df.columns.str.upper()"
   ]
  },
  {
   "cell_type": "code",
   "execution_count": 15,
   "id": "7b7168c3-1c67-49df-a1c6-39c51217dd22",
   "metadata": {},
   "outputs": [],
   "source": [
    "appended_df.to_parquet(\"fixed_order_with_merchant.parquet\")"
   ]
  },
  {
   "cell_type": "code",
   "execution_count": 17,
   "id": "0a38d9bf-f946-4edd-9de0-61d36af6b82f",
   "metadata": {},
   "outputs": [
    {
     "name": "stdout",
     "output_type": "stream",
     "text": [
      "<class 'pandas.core.frame.DataFrame'>\n",
      "RangeIndex: 500000 entries, 0 to 499999\n",
      "Data columns (total 3 columns):\n",
      " #   Column       Non-Null Count   Dtype \n",
      "---  ------       --------------   ----- \n",
      " 0   ORDER_ID     500000 non-null  object\n",
      " 1   MERCHANT_ID  500000 non-null  object\n",
      " 2   STAFF_ID     500000 non-null  object\n",
      "dtypes: object(3)\n",
      "memory usage: 11.4+ MB\n"
     ]
    }
   ],
   "source": [
    "appended_df.info()"
   ]
  },
  {
   "cell_type": "code",
   "execution_count": null,
   "id": "1a379b76-452c-4562-b0e9-e0addaf13fa7",
   "metadata": {},
   "outputs": [],
   "source": []
  }
 ],
 "metadata": {
  "kernelspec": {
   "display_name": "Python 3 (ipykernel)",
   "language": "python",
   "name": "python3"
  },
  "language_info": {
   "codemirror_mode": {
    "name": "ipython",
    "version": 3
   },
   "file_extension": ".py",
   "mimetype": "text/x-python",
   "name": "python",
   "nbconvert_exporter": "python",
   "pygments_lexer": "ipython3",
   "version": "3.12.0"
  }
 },
 "nbformat": 4,
 "nbformat_minor": 5
}
