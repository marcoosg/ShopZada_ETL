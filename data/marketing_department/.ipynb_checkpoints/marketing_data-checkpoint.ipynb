{
 "cells": [
  {
   "cell_type": "code",
   "execution_count": 299,
   "id": "d250b577-1671-43c2-9e6d-1b0942f4513f",
   "metadata": {},
   "outputs": [],
   "source": [
    "import pandas as pd\n",
    "import numpy as np"
   ]
  },
  {
   "cell_type": "markdown",
   "id": "744bee11-518e-4950-be46-89b578b00203",
   "metadata": {},
   "source": [
    "## Loading the Data"
   ]
  },
  {
   "cell_type": "code",
   "execution_count": 300,
   "id": "491f7ec4-446e-4a41-a9d8-f95536e66b35",
   "metadata": {},
   "outputs": [],
   "source": [
    "df_campaign_data = pd.read_csv('../marketing_department/campaign_data.csv')\n",
    "df_transaction_campaign_data = pd.read_csv('../marketing_department/transactional_campaign_data.csv')"
   ]
  },
  {
   "cell_type": "markdown",
   "id": "fb295cea-0b1f-413f-9319-6bfa331bdf44",
   "metadata": {},
   "source": [
    "## Data Profiling - df_campaign_data"
   ]
  },
  {
   "cell_type": "code",
   "execution_count": 301,
   "id": "2bf73f5f-cf5f-4054-ba4d-498ad8b7273c",
   "metadata": {},
   "outputs": [
    {
     "name": "stdout",
     "output_type": "stream",
     "text": [
      "<class 'pandas.core.frame.DataFrame'>\n",
      "RangeIndex: 10 entries, 0 to 9\n",
      "Data columns (total 1 columns):\n",
      " #   Column                                                    Non-Null Count  Dtype \n",
      "---  ------                                                    --------------  ----- \n",
      " 0   \tcampaign_id\tcampaign_name\tcampaign_description\tdiscount  10 non-null     object\n",
      "dtypes: object(1)\n",
      "memory usage: 212.0+ bytes\n"
     ]
    }
   ],
   "source": [
    "df_campaign_data.info()"
   ]
  },
  {
   "cell_type": "code",
   "execution_count": 302,
   "id": "7eac9114-0c35-4607-8a2a-bf7b1d33aa63",
   "metadata": {},
   "outputs": [
    {
     "data": {
      "text/html": [
       "<div>\n",
       "<style scoped>\n",
       "    .dataframe tbody tr th:only-of-type {\n",
       "        vertical-align: middle;\n",
       "    }\n",
       "\n",
       "    .dataframe tbody tr th {\n",
       "        vertical-align: top;\n",
       "    }\n",
       "\n",
       "    .dataframe thead th {\n",
       "        text-align: right;\n",
       "    }\n",
       "</style>\n",
       "<table border=\"1\" class=\"dataframe\">\n",
       "  <thead>\n",
       "    <tr style=\"text-align: right;\">\n",
       "      <th></th>\n",
       "      <th>\\tcampaign_id\\tcampaign_name\\tcampaign_description\\tdiscount</th>\n",
       "    </tr>\n",
       "  </thead>\n",
       "  <tbody>\n",
       "    <tr>\n",
       "      <th>0</th>\n",
       "      <td>0\\tCAMPAIGN24776\\twouldn't you know it\\t\"\"\"Twee retro vinyl single-origin coffee sartorial fanny pack brunch offal health.\"\" - Raleigh Senger\"\\t1%</td>\n",
       "    </tr>\n",
       "    <tr>\n",
       "      <th>1</th>\n",
       "      <td>1\\tCAMPAIGN33679\\tcould be written on the back of a postage stamp\\t\"\"\"Fanny pack gentrify cardigan messenger bag.\"\" - Bradley Stamm\"\\t1pct</td>\n",
       "    </tr>\n",
       "    <tr>\n",
       "      <th>2</th>\n",
       "      <td>2\\tCAMPAIGN49972\\tme neither\\t\"\"\"DIY pug leggings everyday craft beer cardigan knausgaard +1 crucifix flannel.\"\" - Tremayne Nader\"\\t10%%</td>\n",
       "    </tr>\n",
       "    <tr>\n",
       "      <th>3</th>\n",
       "      <td>3\\tCAMPAIGN61872\\ton the huh\\t\"\"\"Trust fund pinterest chambray.\"\" - Claude Aufderhar\"\\t5%</td>\n",
       "    </tr>\n",
       "    <tr>\n",
       "      <th>4</th>\n",
       "      <td>4\\tCAMPAIGN03110\\tstick a fork in it\\t\"\"\"YOLO tumblr Yuccie austin.\"\" - Jordi Kunde\"\\t1percent</td>\n",
       "    </tr>\n",
       "    <tr>\n",
       "      <th>5</th>\n",
       "      <td>5\\tCAMPAIGN46302\\tyou must be new here\\t\"\"\"Craft beer XOXO hella tacos chillwave cred organic letterpress disrupt artisan.\"\" - Rodrick Lebsack\"\\t1pct</td>\n",
       "    </tr>\n",
       "    <tr>\n",
       "      <th>6</th>\n",
       "      <td>6\\tCAMPAIGN11190\\tmind your own beeswax\\t\"\"\"Street shoreditch viral before they sold out yr ramps skateboard skateboard bitters pabst.\"\" - Brendan Miller\"\\t10pct</td>\n",
       "    </tr>\n",
       "    <tr>\n",
       "      <th>7</th>\n",
       "      <td>7\\tCAMPAIGN53595\\thow do I get to the train station\\t\"\"\"Craft beer venmo lomo fixie readymade marfa.\"\" - Benny Bogan\"\\t20pct</td>\n",
       "    </tr>\n",
       "    <tr>\n",
       "      <th>8</th>\n",
       "      <td>8\\tCAMPAIGN29983\\twould it hurt\\t\"\"\"Vegan migas ramps keytar wolf cray kickstarter five dollar toast.\"\" - Adeline Brakus\"\\t1%</td>\n",
       "    </tr>\n",
       "    <tr>\n",
       "      <th>9</th>\n",
       "      <td>9\\tCAMPAIGN52447\\tpound for pound\\t\"\"\"Semiotics biodiesel everyday craft beer etsy semiotics keffiyeh meditation single-origin coffee.\"\" - Bernadette Pollich\"\\t1percent</td>\n",
       "    </tr>\n",
       "  </tbody>\n",
       "</table>\n",
       "</div>"
      ],
      "text/plain": [
       "                                                                                                               \\tcampaign_id\\tcampaign_name\\tcampaign_description\\tdiscount\n",
       "0                        0\\tCAMPAIGN24776\\twouldn't you know it\\t\"\"\"Twee retro vinyl single-origin coffee sartorial fanny pack brunch offal health.\"\" - Raleigh Senger\"\\t1%\n",
       "1                                1\\tCAMPAIGN33679\\tcould be written on the back of a postage stamp\\t\"\"\"Fanny pack gentrify cardigan messenger bag.\"\" - Bradley Stamm\"\\t1pct\n",
       "2                                  2\\tCAMPAIGN49972\\tme neither\\t\"\"\"DIY pug leggings everyday craft beer cardigan knausgaard +1 crucifix flannel.\"\" - Tremayne Nader\"\\t10%%\n",
       "3                                                                                 3\\tCAMPAIGN61872\\ton the huh\\t\"\"\"Trust fund pinterest chambray.\"\" - Claude Aufderhar\"\\t5%\n",
       "4                                                                            4\\tCAMPAIGN03110\\tstick a fork in it\\t\"\"\"YOLO tumblr Yuccie austin.\"\" - Jordi Kunde\"\\t1percent\n",
       "5                     5\\tCAMPAIGN46302\\tyou must be new here\\t\"\"\"Craft beer XOXO hella tacos chillwave cred organic letterpress disrupt artisan.\"\" - Rodrick Lebsack\"\\t1pct\n",
       "6         6\\tCAMPAIGN11190\\tmind your own beeswax\\t\"\"\"Street shoreditch viral before they sold out yr ramps skateboard skateboard bitters pabst.\"\" - Brendan Miller\"\\t10pct\n",
       "7                                              7\\tCAMPAIGN53595\\thow do I get to the train station\\t\"\"\"Craft beer venmo lomo fixie readymade marfa.\"\" - Benny Bogan\"\\t20pct\n",
       "8                                             8\\tCAMPAIGN29983\\twould it hurt\\t\"\"\"Vegan migas ramps keytar wolf cray kickstarter five dollar toast.\"\" - Adeline Brakus\"\\t1%\n",
       "9  9\\tCAMPAIGN52447\\tpound for pound\\t\"\"\"Semiotics biodiesel everyday craft beer etsy semiotics keffiyeh meditation single-origin coffee.\"\" - Bernadette Pollich\"\\t1percent"
      ]
     },
     "execution_count": 302,
     "metadata": {},
     "output_type": "execute_result"
    }
   ],
   "source": [
    "df_campaign_data.head(10)"
   ]
  },
  {
   "cell_type": "code",
   "execution_count": 303,
   "id": "2b403ddd-f541-40ae-8900-64eed7f51d00",
   "metadata": {},
   "outputs": [
    {
     "name": "stdout",
     "output_type": "stream",
     "text": [
      "(10, 1)\n"
     ]
    }
   ],
   "source": [
    "print(df_campaign_data.shape)"
   ]
  },
  {
   "cell_type": "code",
   "execution_count": 304,
   "id": "2b12aa78-b9f5-4bb1-b2ff-568ab245e33f",
   "metadata": {},
   "outputs": [
    {
     "data": {
      "text/plain": [
       "0"
      ]
     },
     "execution_count": 304,
     "metadata": {},
     "output_type": "execute_result"
    }
   ],
   "source": [
    "df_campaign_data.duplicated().sum()"
   ]
  },
  {
   "cell_type": "markdown",
   "id": "58e2b0cf-04f3-43b1-8a1f-22bdbdd9a473",
   "metadata": {},
   "source": [
    "## Data Cleaning - df_campaign_data"
   ]
  },
  {
   "cell_type": "markdown",
   "id": "d10d9250-efc1-4ff3-a880-fb44321bcf66",
   "metadata": {},
   "source": [
    "### Separate the into different columns"
   ]
  },
  {
   "cell_type": "code",
   "execution_count": 305,
   "id": "4925ad34-69f6-4701-81d3-fe93c8f12d37",
   "metadata": {},
   "outputs": [],
   "source": [
    "#separating one cell to multiple cells\n",
    "df_campaign_data[['Unnamed', 'campaign_id' , 'campaign_name', 'campaign_description', 'discount']] = df_campaign_data['\\tcampaign_id\\tcampaign_name\\tcampaign_description\\tdiscount'].str.split('\\t', expand=True)"
   ]
  },
  {
   "cell_type": "code",
   "execution_count": 306,
   "id": "30c7f98d-4136-40e9-a8f1-5cce8e5b9ee9",
   "metadata": {},
   "outputs": [],
   "source": [
    "df_campaign_data.drop('Unnamed', inplace=True, axis=1)"
   ]
  },
  {
   "cell_type": "code",
   "execution_count": 307,
   "id": "545270cb-1381-451d-8505-becdb3b6eadd",
   "metadata": {},
   "outputs": [],
   "source": [
    "df_campaign_data.drop('\\tcampaign_id\\tcampaign_name\\tcampaign_description\\tdiscount', inplace=True, axis=1)"
   ]
  },
  {
   "cell_type": "markdown",
   "id": "b791bdb0-fcd5-4d40-86fd-fb0e842dda21",
   "metadata": {},
   "source": [
    "### Separate campaign description with writer"
   ]
  },
  {
   "cell_type": "code",
   "execution_count": 308,
   "id": "e2f66fbc-7acf-4b63-b8ba-beb03e29b06d",
   "metadata": {},
   "outputs": [],
   "source": [
    "#separating campaign description with writer\n",
    "df_campaign_data[['campaign_description', 'campaign_writer']] = df_campaign_data['campaign_description'].str.split(\" - \", expand=True)"
   ]
  },
  {
   "cell_type": "markdown",
   "id": "df9e59b0-0630-4340-9d25-c5eaa7d959c3",
   "metadata": {},
   "source": [
    "### Removing unnecessary symbols"
   ]
  },
  {
   "cell_type": "code",
   "execution_count": 309,
   "id": "c47e7188-2dbf-4f13-88cb-0c67ea6254db",
   "metadata": {},
   "outputs": [],
   "source": [
    "#cleaning campaign description by removing unnecessary symbols\n",
    "df_campaign_data['campaign_description'] = df_campaign_data['campaign_description'].str.replace('\"', '')\n",
    "df_campaign_data['campaign_writer'] = df_campaign_data['campaign_writer'].str.replace('\"', '')"
   ]
  },
  {
   "cell_type": "code",
   "execution_count": 310,
   "id": "03a50d8e-ada1-41a5-9edb-940f0b220d6f",
   "metadata": {},
   "outputs": [],
   "source": [
    "#cleaning structure in discount column\n",
    "df_campaign_data['discount'] = df_campaign_data['discount'].str.replace('%%', '%')\n",
    "df_campaign_data['discount'] = df_campaign_data['discount'].str.replace('pct', '%')\n",
    "df_campaign_data['discount'] = df_campaign_data['discount'].str.replace('percent', '%')"
   ]
  },
  {
   "cell_type": "code",
   "execution_count": 311,
   "id": "e88ace8b-443f-4bb6-9271-c41962d80c0e",
   "metadata": {},
   "outputs": [],
   "source": [
    "#setting up width of column\n",
    "pd.set_option('display.max_colwidth', None)"
   ]
  },
  {
   "cell_type": "markdown",
   "id": "e1bc62d6-cf46-4f76-bf30-6fdcd60f5187",
   "metadata": {},
   "source": [
    "### Renaming discount to campaign_discount"
   ]
  },
  {
   "cell_type": "code",
   "execution_count": 312,
   "id": "7f71e1ac-4dbc-4733-9e7b-850dfda3f46c",
   "metadata": {},
   "outputs": [],
   "source": [
    "df_campaign_data = df_campaign_data.rename(columns={'discount': 'campaign_discount'})"
   ]
  },
  {
   "cell_type": "markdown",
   "id": "6a774e16-f8cb-4e60-9e10-928aebdd70e7",
   "metadata": {},
   "source": [
    "### Making it into uppercase"
   ]
  },
  {
   "cell_type": "code",
   "execution_count": 313,
   "id": "9695ad66-2a35-4d12-aa7e-4e444ad20e97",
   "metadata": {},
   "outputs": [],
   "source": [
    "#campaign_name to uppercase\n",
    "df_campaign_data['campaign_name'] = df_campaign_data['campaign_name'].str.upper()\n",
    "df_campaign_data['campaign_writer'] = df_campaign_data['campaign_writer'].str.upper()"
   ]
  },
  {
   "cell_type": "code",
   "execution_count": 314,
   "id": "7c8648f3-2853-45d5-ac0d-9c4c9ed554a1",
   "metadata": {},
   "outputs": [],
   "source": [
    "# Uppercase all columns\n",
    "df_campaign_data.columns = df_campaign_data.columns.str.upper()"
   ]
  },
  {
   "cell_type": "code",
   "execution_count": 315,
   "id": "4e73e585-e615-43bc-aefc-5dc622e594de",
   "metadata": {},
   "outputs": [
    {
     "data": {
      "text/html": [
       "<div>\n",
       "<style scoped>\n",
       "    .dataframe tbody tr th:only-of-type {\n",
       "        vertical-align: middle;\n",
       "    }\n",
       "\n",
       "    .dataframe tbody tr th {\n",
       "        vertical-align: top;\n",
       "    }\n",
       "\n",
       "    .dataframe thead th {\n",
       "        text-align: right;\n",
       "    }\n",
       "</style>\n",
       "<table border=\"1\" class=\"dataframe\">\n",
       "  <thead>\n",
       "    <tr style=\"text-align: right;\">\n",
       "      <th></th>\n",
       "      <th>CAMPAIGN_ID</th>\n",
       "      <th>CAMPAIGN_NAME</th>\n",
       "      <th>CAMPAIGN_DESCRIPTION</th>\n",
       "      <th>CAMPAIGN_DISCOUNT</th>\n",
       "      <th>CAMPAIGN_WRITER</th>\n",
       "    </tr>\n",
       "  </thead>\n",
       "  <tbody>\n",
       "    <tr>\n",
       "      <th>0</th>\n",
       "      <td>CAMPAIGN24776</td>\n",
       "      <td>WOULDN'T YOU KNOW IT</td>\n",
       "      <td>Twee retro vinyl single-origin coffee sartorial fanny pack brunch offal health.</td>\n",
       "      <td>1%</td>\n",
       "      <td>RALEIGH SENGER</td>\n",
       "    </tr>\n",
       "    <tr>\n",
       "      <th>1</th>\n",
       "      <td>CAMPAIGN33679</td>\n",
       "      <td>COULD BE WRITTEN ON THE BACK OF A POSTAGE STAMP</td>\n",
       "      <td>Fanny pack gentrify cardigan messenger bag.</td>\n",
       "      <td>1%</td>\n",
       "      <td>BRADLEY STAMM</td>\n",
       "    </tr>\n",
       "    <tr>\n",
       "      <th>2</th>\n",
       "      <td>CAMPAIGN49972</td>\n",
       "      <td>ME NEITHER</td>\n",
       "      <td>DIY pug leggings everyday craft beer cardigan knausgaard +1 crucifix flannel.</td>\n",
       "      <td>10%</td>\n",
       "      <td>TREMAYNE NADER</td>\n",
       "    </tr>\n",
       "    <tr>\n",
       "      <th>3</th>\n",
       "      <td>CAMPAIGN61872</td>\n",
       "      <td>ON THE HUH</td>\n",
       "      <td>Trust fund pinterest chambray.</td>\n",
       "      <td>5%</td>\n",
       "      <td>CLAUDE AUFDERHAR</td>\n",
       "    </tr>\n",
       "    <tr>\n",
       "      <th>4</th>\n",
       "      <td>CAMPAIGN03110</td>\n",
       "      <td>STICK A FORK IN IT</td>\n",
       "      <td>YOLO tumblr Yuccie austin.</td>\n",
       "      <td>1%</td>\n",
       "      <td>JORDI KUNDE</td>\n",
       "    </tr>\n",
       "    <tr>\n",
       "      <th>5</th>\n",
       "      <td>CAMPAIGN46302</td>\n",
       "      <td>YOU MUST BE NEW HERE</td>\n",
       "      <td>Craft beer XOXO hella tacos chillwave cred organic letterpress disrupt artisan.</td>\n",
       "      <td>1%</td>\n",
       "      <td>RODRICK LEBSACK</td>\n",
       "    </tr>\n",
       "    <tr>\n",
       "      <th>6</th>\n",
       "      <td>CAMPAIGN11190</td>\n",
       "      <td>MIND YOUR OWN BEESWAX</td>\n",
       "      <td>Street shoreditch viral before they sold out yr ramps skateboard skateboard bitters pabst.</td>\n",
       "      <td>10%</td>\n",
       "      <td>BRENDAN MILLER</td>\n",
       "    </tr>\n",
       "    <tr>\n",
       "      <th>7</th>\n",
       "      <td>CAMPAIGN53595</td>\n",
       "      <td>HOW DO I GET TO THE TRAIN STATION</td>\n",
       "      <td>Craft beer venmo lomo fixie readymade marfa.</td>\n",
       "      <td>20%</td>\n",
       "      <td>BENNY BOGAN</td>\n",
       "    </tr>\n",
       "    <tr>\n",
       "      <th>8</th>\n",
       "      <td>CAMPAIGN29983</td>\n",
       "      <td>WOULD IT HURT</td>\n",
       "      <td>Vegan migas ramps keytar wolf cray kickstarter five dollar toast.</td>\n",
       "      <td>1%</td>\n",
       "      <td>ADELINE BRAKUS</td>\n",
       "    </tr>\n",
       "    <tr>\n",
       "      <th>9</th>\n",
       "      <td>CAMPAIGN52447</td>\n",
       "      <td>POUND FOR POUND</td>\n",
       "      <td>Semiotics biodiesel everyday craft beer etsy semiotics keffiyeh meditation single-origin coffee.</td>\n",
       "      <td>1%</td>\n",
       "      <td>BERNADETTE POLLICH</td>\n",
       "    </tr>\n",
       "  </tbody>\n",
       "</table>\n",
       "</div>"
      ],
      "text/plain": [
       "     CAMPAIGN_ID                                    CAMPAIGN_NAME  \\\n",
       "0  CAMPAIGN24776                             WOULDN'T YOU KNOW IT   \n",
       "1  CAMPAIGN33679  COULD BE WRITTEN ON THE BACK OF A POSTAGE STAMP   \n",
       "2  CAMPAIGN49972                                       ME NEITHER   \n",
       "3  CAMPAIGN61872                                       ON THE HUH   \n",
       "4  CAMPAIGN03110                               STICK A FORK IN IT   \n",
       "5  CAMPAIGN46302                             YOU MUST BE NEW HERE   \n",
       "6  CAMPAIGN11190                            MIND YOUR OWN BEESWAX   \n",
       "7  CAMPAIGN53595                HOW DO I GET TO THE TRAIN STATION   \n",
       "8  CAMPAIGN29983                                    WOULD IT HURT   \n",
       "9  CAMPAIGN52447                                  POUND FOR POUND   \n",
       "\n",
       "                                                                               CAMPAIGN_DESCRIPTION  \\\n",
       "0                   Twee retro vinyl single-origin coffee sartorial fanny pack brunch offal health.   \n",
       "1                                                       Fanny pack gentrify cardigan messenger bag.   \n",
       "2                     DIY pug leggings everyday craft beer cardigan knausgaard +1 crucifix flannel.   \n",
       "3                                                                    Trust fund pinterest chambray.   \n",
       "4                                                                        YOLO tumblr Yuccie austin.   \n",
       "5                   Craft beer XOXO hella tacos chillwave cred organic letterpress disrupt artisan.   \n",
       "6        Street shoreditch viral before they sold out yr ramps skateboard skateboard bitters pabst.   \n",
       "7                                                      Craft beer venmo lomo fixie readymade marfa.   \n",
       "8                                 Vegan migas ramps keytar wolf cray kickstarter five dollar toast.   \n",
       "9  Semiotics biodiesel everyday craft beer etsy semiotics keffiyeh meditation single-origin coffee.   \n",
       "\n",
       "  CAMPAIGN_DISCOUNT     CAMPAIGN_WRITER  \n",
       "0                1%      RALEIGH SENGER  \n",
       "1                1%       BRADLEY STAMM  \n",
       "2               10%      TREMAYNE NADER  \n",
       "3                5%    CLAUDE AUFDERHAR  \n",
       "4                1%         JORDI KUNDE  \n",
       "5                1%     RODRICK LEBSACK  \n",
       "6               10%      BRENDAN MILLER  \n",
       "7               20%         BENNY BOGAN  \n",
       "8                1%      ADELINE BRAKUS  \n",
       "9                1%  BERNADETTE POLLICH  "
      ]
     },
     "execution_count": 315,
     "metadata": {},
     "output_type": "execute_result"
    }
   ],
   "source": [
    "df_campaign_data.head(10)"
   ]
  },
  {
   "cell_type": "markdown",
   "id": "975d6e0d-3f60-4c5a-92eb-8937cacedf06",
   "metadata": {},
   "source": [
    "## Data Profiling - df_transactional_campaign_data"
   ]
  },
  {
   "cell_type": "code",
   "execution_count": 316,
   "id": "ca4bb21a-1bb0-4a0d-a744-ddac128a64cd",
   "metadata": {},
   "outputs": [
    {
     "name": "stdout",
     "output_type": "stream",
     "text": [
      "<class 'pandas.core.frame.DataFrame'>\n",
      "RangeIndex: 124887 entries, 0 to 124886\n",
      "Data columns (total 6 columns):\n",
      " #   Column             Non-Null Count   Dtype \n",
      "---  ------             --------------   ----- \n",
      " 0   Unnamed: 0         124887 non-null  int64 \n",
      " 1   transaction_date   124887 non-null  object\n",
      " 2   campaign_id        124887 non-null  object\n",
      " 3   order_id           124887 non-null  object\n",
      " 4   estimated arrival  124887 non-null  object\n",
      " 5   availed            124887 non-null  int64 \n",
      "dtypes: int64(2), object(4)\n",
      "memory usage: 5.7+ MB\n"
     ]
    }
   ],
   "source": [
    "df_transaction_campaign_data.info()"
   ]
  },
  {
   "cell_type": "code",
   "execution_count": 317,
   "id": "2cb0ba67-99c3-4d2f-9711-1177b9a85d60",
   "metadata": {},
   "outputs": [
    {
     "data": {
      "text/html": [
       "<div>\n",
       "<style scoped>\n",
       "    .dataframe tbody tr th:only-of-type {\n",
       "        vertical-align: middle;\n",
       "    }\n",
       "\n",
       "    .dataframe tbody tr th {\n",
       "        vertical-align: top;\n",
       "    }\n",
       "\n",
       "    .dataframe thead th {\n",
       "        text-align: right;\n",
       "    }\n",
       "</style>\n",
       "<table border=\"1\" class=\"dataframe\">\n",
       "  <thead>\n",
       "    <tr style=\"text-align: right;\">\n",
       "      <th></th>\n",
       "      <th>Unnamed: 0</th>\n",
       "      <th>transaction_date</th>\n",
       "      <th>campaign_id</th>\n",
       "      <th>order_id</th>\n",
       "      <th>estimated arrival</th>\n",
       "      <th>availed</th>\n",
       "    </tr>\n",
       "  </thead>\n",
       "  <tbody>\n",
       "    <tr>\n",
       "      <th>0</th>\n",
       "      <td>2</td>\n",
       "      <td>2023-08-14</td>\n",
       "      <td>CAMPAIGN49972</td>\n",
       "      <td>0612c246-57f1-40e8-9993-0f8d41992049</td>\n",
       "      <td>10days</td>\n",
       "      <td>1</td>\n",
       "    </tr>\n",
       "    <tr>\n",
       "      <th>1</th>\n",
       "      <td>4</td>\n",
       "      <td>2021-10-12</td>\n",
       "      <td>CAMPAIGN46302</td>\n",
       "      <td>b4c411de-2fd3-4806-91ae-165edc9baa12</td>\n",
       "      <td>13days</td>\n",
       "      <td>0</td>\n",
       "    </tr>\n",
       "    <tr>\n",
       "      <th>2</th>\n",
       "      <td>6</td>\n",
       "      <td>2023-01-30</td>\n",
       "      <td>CAMPAIGN29983</td>\n",
       "      <td>26de6b40-db2d-40b9-a64c-58736eaf0381</td>\n",
       "      <td>3days</td>\n",
       "      <td>1</td>\n",
       "    </tr>\n",
       "    <tr>\n",
       "      <th>3</th>\n",
       "      <td>8</td>\n",
       "      <td>2022-01-05</td>\n",
       "      <td>CAMPAIGN46302</td>\n",
       "      <td>26b60a4e-aafe-4b99-bace-034d088a4a53</td>\n",
       "      <td>8days</td>\n",
       "      <td>1</td>\n",
       "    </tr>\n",
       "    <tr>\n",
       "      <th>4</th>\n",
       "      <td>9</td>\n",
       "      <td>2023-09-19</td>\n",
       "      <td>CAMPAIGN46302</td>\n",
       "      <td>4aab29ae-e610-46bf-92af-199f6f420cee</td>\n",
       "      <td>14days</td>\n",
       "      <td>1</td>\n",
       "    </tr>\n",
       "    <tr>\n",
       "      <th>5</th>\n",
       "      <td>16</td>\n",
       "      <td>2020-07-01</td>\n",
       "      <td>CAMPAIGN46302</td>\n",
       "      <td>3312851e-28dc-4508-8003-09ba304ce9e2</td>\n",
       "      <td>11days</td>\n",
       "      <td>1</td>\n",
       "    </tr>\n",
       "    <tr>\n",
       "      <th>6</th>\n",
       "      <td>22</td>\n",
       "      <td>2022-07-18</td>\n",
       "      <td>CAMPAIGN29983</td>\n",
       "      <td>9ae58335-164a-467c-ae22-fe5dabe806b9</td>\n",
       "      <td>10days</td>\n",
       "      <td>1</td>\n",
       "    </tr>\n",
       "    <tr>\n",
       "      <th>7</th>\n",
       "      <td>24</td>\n",
       "      <td>2020-08-28</td>\n",
       "      <td>CAMPAIGN29983</td>\n",
       "      <td>65abaa49-3ae1-44bb-8366-ef9d7e264a4c</td>\n",
       "      <td>7days</td>\n",
       "      <td>1</td>\n",
       "    </tr>\n",
       "    <tr>\n",
       "      <th>8</th>\n",
       "      <td>27</td>\n",
       "      <td>2023-11-13</td>\n",
       "      <td>CAMPAIGN03110</td>\n",
       "      <td>fd92cc32-e28e-4f14-b8f8-4526ea58fb3f</td>\n",
       "      <td>3days</td>\n",
       "      <td>1</td>\n",
       "    </tr>\n",
       "    <tr>\n",
       "      <th>9</th>\n",
       "      <td>33</td>\n",
       "      <td>2022-09-21</td>\n",
       "      <td>CAMPAIGN46302</td>\n",
       "      <td>61c61e9b-9838-4c95-8390-4343fbac7a18</td>\n",
       "      <td>9days</td>\n",
       "      <td>1</td>\n",
       "    </tr>\n",
       "  </tbody>\n",
       "</table>\n",
       "</div>"
      ],
      "text/plain": [
       "   Unnamed: 0 transaction_date    campaign_id  \\\n",
       "0           2       2023-08-14  CAMPAIGN49972   \n",
       "1           4       2021-10-12  CAMPAIGN46302   \n",
       "2           6       2023-01-30  CAMPAIGN29983   \n",
       "3           8       2022-01-05  CAMPAIGN46302   \n",
       "4           9       2023-09-19  CAMPAIGN46302   \n",
       "5          16       2020-07-01  CAMPAIGN46302   \n",
       "6          22       2022-07-18  CAMPAIGN29983   \n",
       "7          24       2020-08-28  CAMPAIGN29983   \n",
       "8          27       2023-11-13  CAMPAIGN03110   \n",
       "9          33       2022-09-21  CAMPAIGN46302   \n",
       "\n",
       "                               order_id estimated arrival  availed  \n",
       "0  0612c246-57f1-40e8-9993-0f8d41992049            10days        1  \n",
       "1  b4c411de-2fd3-4806-91ae-165edc9baa12            13days        0  \n",
       "2  26de6b40-db2d-40b9-a64c-58736eaf0381             3days        1  \n",
       "3  26b60a4e-aafe-4b99-bace-034d088a4a53             8days        1  \n",
       "4  4aab29ae-e610-46bf-92af-199f6f420cee            14days        1  \n",
       "5  3312851e-28dc-4508-8003-09ba304ce9e2            11days        1  \n",
       "6  9ae58335-164a-467c-ae22-fe5dabe806b9            10days        1  \n",
       "7  65abaa49-3ae1-44bb-8366-ef9d7e264a4c             7days        1  \n",
       "8  fd92cc32-e28e-4f14-b8f8-4526ea58fb3f             3days        1  \n",
       "9  61c61e9b-9838-4c95-8390-4343fbac7a18             9days        1  "
      ]
     },
     "execution_count": 317,
     "metadata": {},
     "output_type": "execute_result"
    }
   ],
   "source": [
    "df_transaction_campaign_data.head(10)"
   ]
  },
  {
   "cell_type": "code",
   "execution_count": 318,
   "id": "f8479071-6539-4aca-884a-c1a6afdd2ffd",
   "metadata": {},
   "outputs": [
    {
     "data": {
      "text/html": [
       "<div>\n",
       "<style scoped>\n",
       "    .dataframe tbody tr th:only-of-type {\n",
       "        vertical-align: middle;\n",
       "    }\n",
       "\n",
       "    .dataframe tbody tr th {\n",
       "        vertical-align: top;\n",
       "    }\n",
       "\n",
       "    .dataframe thead th {\n",
       "        text-align: right;\n",
       "    }\n",
       "</style>\n",
       "<table border=\"1\" class=\"dataframe\">\n",
       "  <thead>\n",
       "    <tr style=\"text-align: right;\">\n",
       "      <th></th>\n",
       "      <th>Unnamed: 0</th>\n",
       "      <th>transaction_date</th>\n",
       "      <th>campaign_id</th>\n",
       "      <th>order_id</th>\n",
       "      <th>estimated arrival</th>\n",
       "      <th>availed</th>\n",
       "    </tr>\n",
       "  </thead>\n",
       "  <tbody>\n",
       "    <tr>\n",
       "      <th>124877</th>\n",
       "      <td>499963</td>\n",
       "      <td>2020-02-04</td>\n",
       "      <td>CAMPAIGN24776</td>\n",
       "      <td>a397c17b-956f-4dce-8b0c-d8d6234f1de8</td>\n",
       "      <td>14days</td>\n",
       "      <td>1</td>\n",
       "    </tr>\n",
       "    <tr>\n",
       "      <th>124878</th>\n",
       "      <td>499965</td>\n",
       "      <td>2021-11-23</td>\n",
       "      <td>CAMPAIGN29983</td>\n",
       "      <td>d5dbea32-829e-474c-8d88-cadcb993a944</td>\n",
       "      <td>8days</td>\n",
       "      <td>1</td>\n",
       "    </tr>\n",
       "    <tr>\n",
       "      <th>124879</th>\n",
       "      <td>499967</td>\n",
       "      <td>2022-01-06</td>\n",
       "      <td>CAMPAIGN33679</td>\n",
       "      <td>238f761a-f1bf-4f6c-a37a-fff7f6574f8c</td>\n",
       "      <td>10days</td>\n",
       "      <td>1</td>\n",
       "    </tr>\n",
       "    <tr>\n",
       "      <th>124880</th>\n",
       "      <td>499982</td>\n",
       "      <td>2022-02-14</td>\n",
       "      <td>CAMPAIGN46302</td>\n",
       "      <td>ceafa665-307f-4c9e-b1bd-79577a450eb9</td>\n",
       "      <td>12days</td>\n",
       "      <td>1</td>\n",
       "    </tr>\n",
       "    <tr>\n",
       "      <th>124881</th>\n",
       "      <td>499986</td>\n",
       "      <td>2022-01-23</td>\n",
       "      <td>CAMPAIGN11190</td>\n",
       "      <td>f628455c-ad0a-444f-96c3-931f6a1912e9</td>\n",
       "      <td>9days</td>\n",
       "      <td>0</td>\n",
       "    </tr>\n",
       "    <tr>\n",
       "      <th>124882</th>\n",
       "      <td>499990</td>\n",
       "      <td>2022-04-14</td>\n",
       "      <td>CAMPAIGN61872</td>\n",
       "      <td>6a5163c2-ba62-461c-a729-5b06fe266bd9</td>\n",
       "      <td>12days</td>\n",
       "      <td>0</td>\n",
       "    </tr>\n",
       "    <tr>\n",
       "      <th>124883</th>\n",
       "      <td>499991</td>\n",
       "      <td>2022-11-23</td>\n",
       "      <td>CAMPAIGN11190</td>\n",
       "      <td>883e2fe2-bbdf-4b5e-8348-c2bcba07da0e</td>\n",
       "      <td>15days</td>\n",
       "      <td>1</td>\n",
       "    </tr>\n",
       "    <tr>\n",
       "      <th>124884</th>\n",
       "      <td>499992</td>\n",
       "      <td>2023-07-28</td>\n",
       "      <td>CAMPAIGN33679</td>\n",
       "      <td>575b0a2d-5539-4565-a10b-1f4f6516cd27</td>\n",
       "      <td>12days</td>\n",
       "      <td>1</td>\n",
       "    </tr>\n",
       "    <tr>\n",
       "      <th>124885</th>\n",
       "      <td>499995</td>\n",
       "      <td>2020-04-12</td>\n",
       "      <td>CAMPAIGN49972</td>\n",
       "      <td>ba506489-1505-481d-b0b1-8cdbf04a515f</td>\n",
       "      <td>6days</td>\n",
       "      <td>1</td>\n",
       "    </tr>\n",
       "    <tr>\n",
       "      <th>124886</th>\n",
       "      <td>499997</td>\n",
       "      <td>2023-03-24</td>\n",
       "      <td>CAMPAIGN52447</td>\n",
       "      <td>2b2e775f-d6cd-4659-9a88-b4950bc326c0</td>\n",
       "      <td>15days</td>\n",
       "      <td>1</td>\n",
       "    </tr>\n",
       "  </tbody>\n",
       "</table>\n",
       "</div>"
      ],
      "text/plain": [
       "        Unnamed: 0 transaction_date    campaign_id  \\\n",
       "124877      499963       2020-02-04  CAMPAIGN24776   \n",
       "124878      499965       2021-11-23  CAMPAIGN29983   \n",
       "124879      499967       2022-01-06  CAMPAIGN33679   \n",
       "124880      499982       2022-02-14  CAMPAIGN46302   \n",
       "124881      499986       2022-01-23  CAMPAIGN11190   \n",
       "124882      499990       2022-04-14  CAMPAIGN61872   \n",
       "124883      499991       2022-11-23  CAMPAIGN11190   \n",
       "124884      499992       2023-07-28  CAMPAIGN33679   \n",
       "124885      499995       2020-04-12  CAMPAIGN49972   \n",
       "124886      499997       2023-03-24  CAMPAIGN52447   \n",
       "\n",
       "                                    order_id estimated arrival  availed  \n",
       "124877  a397c17b-956f-4dce-8b0c-d8d6234f1de8            14days        1  \n",
       "124878  d5dbea32-829e-474c-8d88-cadcb993a944             8days        1  \n",
       "124879  238f761a-f1bf-4f6c-a37a-fff7f6574f8c            10days        1  \n",
       "124880  ceafa665-307f-4c9e-b1bd-79577a450eb9            12days        1  \n",
       "124881  f628455c-ad0a-444f-96c3-931f6a1912e9             9days        0  \n",
       "124882  6a5163c2-ba62-461c-a729-5b06fe266bd9            12days        0  \n",
       "124883  883e2fe2-bbdf-4b5e-8348-c2bcba07da0e            15days        1  \n",
       "124884  575b0a2d-5539-4565-a10b-1f4f6516cd27            12days        1  \n",
       "124885  ba506489-1505-481d-b0b1-8cdbf04a515f             6days        1  \n",
       "124886  2b2e775f-d6cd-4659-9a88-b4950bc326c0            15days        1  "
      ]
     },
     "execution_count": 318,
     "metadata": {},
     "output_type": "execute_result"
    }
   ],
   "source": [
    "df_transaction_campaign_data.tail(10)"
   ]
  },
  {
   "cell_type": "code",
   "execution_count": 319,
   "id": "8da9ac21-1d67-4dd3-b4d6-3c29e64af799",
   "metadata": {},
   "outputs": [
    {
     "data": {
      "text/plain": [
       "10"
      ]
     },
     "execution_count": 319,
     "metadata": {},
     "output_type": "execute_result"
    }
   ],
   "source": [
    "df_transaction_campaign_data['campaign_id'].nunique()"
   ]
  },
  {
   "cell_type": "code",
   "execution_count": 320,
   "id": "fde88938-0f0b-47f6-a55d-31dba5b05b26",
   "metadata": {},
   "outputs": [
    {
     "data": {
      "text/html": [
       "<div>\n",
       "<style scoped>\n",
       "    .dataframe tbody tr th:only-of-type {\n",
       "        vertical-align: middle;\n",
       "    }\n",
       "\n",
       "    .dataframe tbody tr th {\n",
       "        vertical-align: top;\n",
       "    }\n",
       "\n",
       "    .dataframe thead th {\n",
       "        text-align: right;\n",
       "    }\n",
       "</style>\n",
       "<table border=\"1\" class=\"dataframe\">\n",
       "  <thead>\n",
       "    <tr style=\"text-align: right;\">\n",
       "      <th></th>\n",
       "      <th>Unnamed: 0</th>\n",
       "      <th>transaction_date</th>\n",
       "      <th>campaign_id</th>\n",
       "      <th>order_id</th>\n",
       "      <th>estimated arrival</th>\n",
       "      <th>availed</th>\n",
       "    </tr>\n",
       "  </thead>\n",
       "  <tbody>\n",
       "    <tr>\n",
       "      <th>300</th>\n",
       "      <td>1103</td>\n",
       "      <td>2020-09-22</td>\n",
       "      <td>CAMPAIGN29983</td>\n",
       "      <td>4f1da4b2-1782-4ebe-b6c9-7dd2256e3189</td>\n",
       "      <td>9days</td>\n",
       "      <td>1</td>\n",
       "    </tr>\n",
       "    <tr>\n",
       "      <th>301</th>\n",
       "      <td>1104</td>\n",
       "      <td>2023-08-30</td>\n",
       "      <td>CAMPAIGN52447</td>\n",
       "      <td>65872179-0051-48cb-9390-8484ee4a5f56</td>\n",
       "      <td>15days</td>\n",
       "      <td>1</td>\n",
       "    </tr>\n",
       "    <tr>\n",
       "      <th>302</th>\n",
       "      <td>1110</td>\n",
       "      <td>2022-05-27</td>\n",
       "      <td>CAMPAIGN46302</td>\n",
       "      <td>175aba9f-ba56-4d55-80ac-55fe5ced4cbd</td>\n",
       "      <td>9days</td>\n",
       "      <td>0</td>\n",
       "    </tr>\n",
       "    <tr>\n",
       "      <th>303</th>\n",
       "      <td>1123</td>\n",
       "      <td>2021-11-16</td>\n",
       "      <td>CAMPAIGN11190</td>\n",
       "      <td>957a8b8c-3996-4780-84cf-ebc92485d3cc</td>\n",
       "      <td>13days</td>\n",
       "      <td>0</td>\n",
       "    </tr>\n",
       "    <tr>\n",
       "      <th>304</th>\n",
       "      <td>1126</td>\n",
       "      <td>2021-03-02</td>\n",
       "      <td>CAMPAIGN46302</td>\n",
       "      <td>54f13dae-2641-4e71-8201-4a1e4e762d9d</td>\n",
       "      <td>11days</td>\n",
       "      <td>1</td>\n",
       "    </tr>\n",
       "    <tr>\n",
       "      <th>...</th>\n",
       "      <td>...</td>\n",
       "      <td>...</td>\n",
       "      <td>...</td>\n",
       "      <td>...</td>\n",
       "      <td>...</td>\n",
       "      <td>...</td>\n",
       "    </tr>\n",
       "    <tr>\n",
       "      <th>495</th>\n",
       "      <td>1950</td>\n",
       "      <td>2021-08-25</td>\n",
       "      <td>CAMPAIGN29983</td>\n",
       "      <td>9eade34d-7cfe-4797-af25-78ce21e9ff23</td>\n",
       "      <td>8days</td>\n",
       "      <td>0</td>\n",
       "    </tr>\n",
       "    <tr>\n",
       "      <th>496</th>\n",
       "      <td>1952</td>\n",
       "      <td>2021-05-01</td>\n",
       "      <td>CAMPAIGN53595</td>\n",
       "      <td>d2030212-0411-46a2-af96-f37128864655</td>\n",
       "      <td>11days</td>\n",
       "      <td>1</td>\n",
       "    </tr>\n",
       "    <tr>\n",
       "      <th>497</th>\n",
       "      <td>1954</td>\n",
       "      <td>2022-06-30</td>\n",
       "      <td>CAMPAIGN24776</td>\n",
       "      <td>fe1f4d70-34cb-4a7b-8927-d5078acad8bc</td>\n",
       "      <td>12days</td>\n",
       "      <td>1</td>\n",
       "    </tr>\n",
       "    <tr>\n",
       "      <th>498</th>\n",
       "      <td>1955</td>\n",
       "      <td>2022-06-02</td>\n",
       "      <td>CAMPAIGN46302</td>\n",
       "      <td>b448a2a2-3a5e-415b-89d2-680adb32714f</td>\n",
       "      <td>8days</td>\n",
       "      <td>1</td>\n",
       "    </tr>\n",
       "    <tr>\n",
       "      <th>499</th>\n",
       "      <td>1956</td>\n",
       "      <td>2022-10-31</td>\n",
       "      <td>CAMPAIGN11190</td>\n",
       "      <td>01469eaf-c317-4cfc-923b-bcee4aa07bad</td>\n",
       "      <td>4days</td>\n",
       "      <td>1</td>\n",
       "    </tr>\n",
       "  </tbody>\n",
       "</table>\n",
       "<p>200 rows × 6 columns</p>\n",
       "</div>"
      ],
      "text/plain": [
       "     Unnamed: 0 transaction_date    campaign_id  \\\n",
       "300        1103       2020-09-22  CAMPAIGN29983   \n",
       "301        1104       2023-08-30  CAMPAIGN52447   \n",
       "302        1110       2022-05-27  CAMPAIGN46302   \n",
       "303        1123       2021-11-16  CAMPAIGN11190   \n",
       "304        1126       2021-03-02  CAMPAIGN46302   \n",
       "..          ...              ...            ...   \n",
       "495        1950       2021-08-25  CAMPAIGN29983   \n",
       "496        1952       2021-05-01  CAMPAIGN53595   \n",
       "497        1954       2022-06-30  CAMPAIGN24776   \n",
       "498        1955       2022-06-02  CAMPAIGN46302   \n",
       "499        1956       2022-10-31  CAMPAIGN11190   \n",
       "\n",
       "                                 order_id estimated arrival  availed  \n",
       "300  4f1da4b2-1782-4ebe-b6c9-7dd2256e3189             9days        1  \n",
       "301  65872179-0051-48cb-9390-8484ee4a5f56            15days        1  \n",
       "302  175aba9f-ba56-4d55-80ac-55fe5ced4cbd             9days        0  \n",
       "303  957a8b8c-3996-4780-84cf-ebc92485d3cc            13days        0  \n",
       "304  54f13dae-2641-4e71-8201-4a1e4e762d9d            11days        1  \n",
       "..                                    ...               ...      ...  \n",
       "495  9eade34d-7cfe-4797-af25-78ce21e9ff23             8days        0  \n",
       "496  d2030212-0411-46a2-af96-f37128864655            11days        1  \n",
       "497  fe1f4d70-34cb-4a7b-8927-d5078acad8bc            12days        1  \n",
       "498  b448a2a2-3a5e-415b-89d2-680adb32714f             8days        1  \n",
       "499  01469eaf-c317-4cfc-923b-bcee4aa07bad             4days        1  \n",
       "\n",
       "[200 rows x 6 columns]"
      ]
     },
     "execution_count": 320,
     "metadata": {},
     "output_type": "execute_result"
    }
   ],
   "source": [
    "df_transaction_campaign_data.iloc[300:500]"
   ]
  },
  {
   "cell_type": "code",
   "execution_count": 321,
   "id": "bb6188d3-daab-4682-bdac-fd48c7722c15",
   "metadata": {},
   "outputs": [
    {
     "data": {
      "text/plain": [
       "0"
      ]
     },
     "execution_count": 321,
     "metadata": {},
     "output_type": "execute_result"
    }
   ],
   "source": [
    "df_transaction_campaign_data.duplicated().sum()"
   ]
  },
  {
   "cell_type": "code",
   "execution_count": 322,
   "id": "d854e00d-b73c-40e2-aa70-a64115636248",
   "metadata": {},
   "outputs": [
    {
     "data": {
      "text/plain": [
       "count         124887\n",
       "unique          1432\n",
       "top       2023-07-01\n",
       "freq             178\n",
       "Name: transaction_date, dtype: object"
      ]
     },
     "execution_count": 322,
     "metadata": {},
     "output_type": "execute_result"
    }
   ],
   "source": [
    "df_transaction_campaign_data['transaction_date'].describe()"
   ]
  },
  {
   "cell_type": "markdown",
   "id": "bef3b405-987a-422f-a972-d531cf9bff12",
   "metadata": {},
   "source": [
    "### Total number of avails per campaign"
   ]
  },
  {
   "cell_type": "code",
   "execution_count": 323,
   "id": "a79718d6-63dd-489d-9926-c15b0f7aa371",
   "metadata": {},
   "outputs": [
    {
     "name": "stdout",
     "output_type": "stream",
     "text": [
      "     campaign_id  availed\n",
      "0  CAMPAIGN03110     8872\n",
      "1  CAMPAIGN11190     8747\n",
      "2  CAMPAIGN24776     8696\n",
      "3  CAMPAIGN29983     8692\n",
      "4  CAMPAIGN33679     8663\n",
      "5  CAMPAIGN46302     8785\n",
      "6  CAMPAIGN49972     8997\n",
      "7  CAMPAIGN52447     8719\n",
      "8  CAMPAIGN53595     8892\n",
      "9  CAMPAIGN61872     8474\n"
     ]
    }
   ],
   "source": [
    "total_avails_per_campaign = df_transaction_campaign_data.groupby('campaign_id')['availed'].sum().reset_index()\n",
    "print(total_avails_per_campaign)"
   ]
  },
  {
   "cell_type": "markdown",
   "id": "4457169f-f06d-4b06-a6cc-44eda79df86a",
   "metadata": {},
   "source": [
    "## Data Cleaning - df_transactional_campaign_data"
   ]
  },
  {
   "cell_type": "markdown",
   "id": "ab625c0f-220c-4af9-8237-e01143b87269",
   "metadata": {},
   "source": [
    "### Rename column estimated arrival"
   ]
  },
  {
   "cell_type": "code",
   "execution_count": 324,
   "id": "78b6a40c-6b96-4b1b-94ff-6fab6c7b8b0f",
   "metadata": {},
   "outputs": [],
   "source": [
    "#rename column\n",
    "df_transaction_campaign_data = df_transaction_campaign_data.rename(columns={'estimated arrival': 'estimated_arrival'})"
   ]
  },
  {
   "cell_type": "markdown",
   "id": "9621702f-6653-49ac-b569-20b215e5d3d0",
   "metadata": {},
   "source": [
    "### Converting transaction_date to date"
   ]
  },
  {
   "cell_type": "code",
   "execution_count": 325,
   "id": "fa942f6b-19e1-49aa-985f-c4fe029a130a",
   "metadata": {},
   "outputs": [],
   "source": [
    "df_transaction_campaign_data['transaction_date'] = pd.to_datetime(df_transaction_campaign_data['transaction_date'])"
   ]
  },
  {
   "cell_type": "markdown",
   "id": "24927cbb-33d6-40bf-b911-b8c0a05d4075",
   "metadata": {},
   "source": [
    "### Adding space between the number and days"
   ]
  },
  {
   "cell_type": "code",
   "execution_count": 326,
   "id": "73145119-92f6-4e84-9c5f-73e2abe8ff1b",
   "metadata": {},
   "outputs": [],
   "source": [
    "df_transaction_campaign_data = df_transaction_campaign_data.assign(\n",
    "    estimated_arrival = df_transaction_campaign_data['estimated_arrival'].str.extract(r'(\\d+)') + \" \" + df_transaction_campaign_data['estimated_arrival'].str.extract(r'(\\D+)')\n",
    "    )"
   ]
  },
  {
   "cell_type": "markdown",
   "id": "5b544c3d-a412-490c-a863-25bc90fc83d4",
   "metadata": {},
   "source": [
    "### Remove unnamed column"
   ]
  },
  {
   "cell_type": "code",
   "execution_count": 327,
   "id": "77528d0f-5f70-4180-8109-ed9afa2d5c90",
   "metadata": {},
   "outputs": [],
   "source": [
    "# Removal of unnamed column (NOT YET SUPER SURE - JUSTIFY THIS)\n",
    "df_transaction_campaign_data.drop('Unnamed: 0', inplace=True, axis=1)"
   ]
  },
  {
   "cell_type": "markdown",
   "id": "bcfb6e22-1134-45fa-9f9d-026c1b5810ef",
   "metadata": {},
   "source": [
    "### Change order of column"
   ]
  },
  {
   "cell_type": "code",
   "execution_count": 328,
   "id": "65e388d0-7ae3-4e38-9104-4e866cc49460",
   "metadata": {},
   "outputs": [],
   "source": [
    "df_transaction_campaign_data = df_transaction_campaign_data[['order_id', 'campaign_id', 'transaction_date', 'estimated_arrival', 'availed']]"
   ]
  },
  {
   "cell_type": "code",
   "execution_count": 329,
   "id": "b60ba3d7-f944-4655-bbbd-1a3e5bbba62e",
   "metadata": {},
   "outputs": [
    {
     "data": {
      "text/plain": [
       "array(['10 days', '13 days', '3 days', '8 days', '14 days', '11 days',\n",
       "       '7 days', '9 days', '4 days', '5 days', '12 days', '6 days',\n",
       "       '15 days'], dtype=object)"
      ]
     },
     "execution_count": 329,
     "metadata": {},
     "output_type": "execute_result"
    }
   ],
   "source": [
    "df_transaction_campaign_data['estimated_arrival'].unique()"
   ]
  },
  {
   "cell_type": "code",
   "execution_count": 330,
   "id": "9a9249cb-756f-4564-9e1d-09eb81bf64e4",
   "metadata": {},
   "outputs": [
    {
     "name": "stdout",
     "output_type": "stream",
     "text": [
      "Empty DataFrame\n",
      "Columns: [order_id, campaign_id, transaction_date, estimated_arrival, availed]\n",
      "Index: []\n"
     ]
    }
   ],
   "source": [
    "#checking for null values\n",
    "null_prod_type = df_transaction_campaign_data.isnull().any(axis=1)\n",
    "null_rows = df_transaction_campaign_data[null_prod_type]\n",
    "print(null_rows)"
   ]
  },
  {
   "cell_type": "markdown",
   "id": "1a9d1836-8584-4674-b95b-3bba6b0a3345",
   "metadata": {},
   "source": [
    "### Uppercase all columns"
   ]
  },
  {
   "cell_type": "code",
   "execution_count": 331,
   "id": "339525c0-2a07-422c-97ef-fe7d40d11c6f",
   "metadata": {},
   "outputs": [],
   "source": [
    "df_transaction_campaign_data.columns = df_transaction_campaign_data.columns.str.upper()"
   ]
  },
  {
   "cell_type": "code",
   "execution_count": 332,
   "id": "a1f2e029-aa20-4b82-859f-55469235c461",
   "metadata": {},
   "outputs": [],
   "source": [
    "df_transaction_campaign_data['ORDER_ID'] = df_transaction_campaign_data['ORDER_ID'].str.upper()\n",
    "df_transaction_campaign_data['CAMPAIGN_ID'] = df_transaction_campaign_data['CAMPAIGN_ID'].str.upper()\n",
    "df_transaction_campaign_data['ESTIMATED_ARRIVAL'] = df_transaction_campaign_data['ESTIMATED_ARRIVAL'].str.upper()"
   ]
  }
 ],
 "metadata": {
  "kernelspec": {
   "display_name": "Python 3 (ipykernel)",
   "language": "python",
   "name": "python3"
  },
  "language_info": {
   "codemirror_mode": {
    "name": "ipython",
    "version": 3
   },
   "file_extension": ".py",
   "mimetype": "text/x-python",
   "name": "python",
   "nbconvert_exporter": "python",
   "pygments_lexer": "ipython3",
   "version": "3.12.0"
  }
 },
 "nbformat": 4,
 "nbformat_minor": 5
}
